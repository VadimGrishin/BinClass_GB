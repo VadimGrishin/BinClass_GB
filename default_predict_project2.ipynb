{
 "cells": [
  {
   "cell_type": "code",
   "execution_count": 2,
   "metadata": {
    "colab": {},
    "colab_type": "code",
    "id": "JENtIZFtPDHN"
   },
   "outputs": [],
   "source": [
    "import pandas as pd\n",
    "import numpy as np\n",
    "\n",
    "import seaborn as sns\n",
    "from matplotlib import pyplot as plt\n",
    "# %matplotlib inline\n",
    "from matplotlib import rcParams\n",
    "rcParams['figure.figsize'] = (24,8)\n",
    "\n",
    "import warnings\n",
    "warnings.filterwarnings('ignore')"
   ]
  },
  {
   "cell_type": "code",
   "execution_count": 3,
   "metadata": {
    "colab": {},
    "colab_type": "code",
    "id": "w_OuNz5XPfv2"
   },
   "outputs": [],
   "source": [
    "df = pd.read_csv('../data/course_project_train.csv')\n",
    "dftst = pd.read_csv('../data/course_project_test.csv')"
   ]
  },
  {
   "cell_type": "code",
   "execution_count": 4,
   "metadata": {
    "colab": {
     "base_uri": "https://localhost:8080/",
     "height": 398
    },
    "colab_type": "code",
    "id": "eWvKItrbf4dd",
    "outputId": "aef89e4c-a5a3-4e26-df9e-c8897c8e78f9"
   },
   "outputs": [
    {
     "name": "stdout",
     "output_type": "stream",
     "text": [
      "<class 'pandas.core.frame.DataFrame'>\n",
      "RangeIndex: 7500 entries, 0 to 7499\n",
      "Data columns (total 17 columns):\n",
      "Home Ownership                  7500 non-null object\n",
      "Annual Income                   5943 non-null float64\n",
      "Years in current job            7129 non-null object\n",
      "Tax Liens                       7500 non-null float64\n",
      "Number of Open Accounts         7500 non-null float64\n",
      "Years of Credit History         7500 non-null float64\n",
      "Maximum Open Credit             7500 non-null float64\n",
      "Number of Credit Problems       7500 non-null float64\n",
      "Months since last delinquent    3419 non-null float64\n",
      "Bankruptcies                    7486 non-null float64\n",
      "Purpose                         7500 non-null object\n",
      "Term                            7500 non-null object\n",
      "Current Loan Amount             7500 non-null float64\n",
      "Current Credit Balance          7500 non-null float64\n",
      "Monthly Debt                    7500 non-null float64\n",
      "Credit Score                    5943 non-null float64\n",
      "Credit Default                  7500 non-null int64\n",
      "dtypes: float64(12), int64(1), object(4)\n",
      "memory usage: 996.2+ KB\n"
     ]
    }
   ],
   "source": [
    "df.info()"
   ]
  },
  {
   "cell_type": "code",
   "execution_count": 5,
   "metadata": {},
   "outputs": [
    {
     "name": "stdout",
     "output_type": "stream",
     "text": [
      "Home Ownership                   object      4     to_cat_candidate\n",
      "Annual Income                    float64     5479  number\n",
      "Years in current job             object      12    to_cat_candidate\n",
      "Tax Liens                        float64     8     to_cat_candidate\n",
      "Number of Open Accounts          float64     39    number\n",
      "Years of Credit History          float64     408   number\n",
      "Maximum Open Credit              float64     6963  number\n",
      "Number of Credit Problems        float64     8     to_cat_candidate\n",
      "Months since last delinquent     float64     90    number\n",
      "Bankruptcies                     float64     6     to_cat_candidate\n",
      "Purpose                          object      15    to_cat_candidate\n",
      "Term                             object      2     to_cat_candidate\n",
      "Current Loan Amount              float64     5386  number\n",
      "Current Credit Balance           float64     6592  number\n",
      "Monthly Debt                     float64     6716  number\n",
      "Credit Score                     float64     269   number\n",
      "Credit Default                   int64       2     to_cat_candidate\n"
     ]
    }
   ],
   "source": [
    "for c in df.columns:\n",
    "    n_vals = df[c].unique().size\n",
    "    print(f\"{c:<30}   {str(df[c].dtype):<10}  {n_vals:<5} {'to_cat_candidate' if n_vals<20 else 'number'}\")"
   ]
  },
  {
   "cell_type": "code",
   "execution_count": 6,
   "metadata": {},
   "outputs": [
    {
     "data": {
      "text/html": [
       "<div>\n",
       "<style scoped>\n",
       "    .dataframe tbody tr th:only-of-type {\n",
       "        vertical-align: middle;\n",
       "    }\n",
       "\n",
       "    .dataframe tbody tr th {\n",
       "        vertical-align: top;\n",
       "    }\n",
       "\n",
       "    .dataframe thead th {\n",
       "        text-align: right;\n",
       "    }\n",
       "</style>\n",
       "<table border=\"1\" class=\"dataframe\">\n",
       "  <thead>\n",
       "    <tr style=\"text-align: right;\">\n",
       "      <th></th>\n",
       "      <th>Annual Income</th>\n",
       "      <th>Tax Liens</th>\n",
       "      <th>Number of Open Accounts</th>\n",
       "      <th>Years of Credit History</th>\n",
       "      <th>Maximum Open Credit</th>\n",
       "      <th>Number of Credit Problems</th>\n",
       "      <th>Months since last delinquent</th>\n",
       "      <th>Bankruptcies</th>\n",
       "      <th>Current Loan Amount</th>\n",
       "      <th>Current Credit Balance</th>\n",
       "      <th>Monthly Debt</th>\n",
       "      <th>Credit Score</th>\n",
       "      <th>Credit Default</th>\n",
       "    </tr>\n",
       "  </thead>\n",
       "  <tbody>\n",
       "    <tr>\n",
       "      <th>count</th>\n",
       "      <td>5.943000e+03</td>\n",
       "      <td>7500.000000</td>\n",
       "      <td>7500.000000</td>\n",
       "      <td>7500.000000</td>\n",
       "      <td>7.500000e+03</td>\n",
       "      <td>7500.000000</td>\n",
       "      <td>3419.000000</td>\n",
       "      <td>7486.000000</td>\n",
       "      <td>7.500000e+03</td>\n",
       "      <td>7.500000e+03</td>\n",
       "      <td>7500.000000</td>\n",
       "      <td>5943.000000</td>\n",
       "      <td>7500.000000</td>\n",
       "    </tr>\n",
       "    <tr>\n",
       "      <th>mean</th>\n",
       "      <td>1.366392e+06</td>\n",
       "      <td>0.030133</td>\n",
       "      <td>11.130933</td>\n",
       "      <td>18.317467</td>\n",
       "      <td>9.451537e+05</td>\n",
       "      <td>0.170000</td>\n",
       "      <td>34.692600</td>\n",
       "      <td>0.117152</td>\n",
       "      <td>1.187318e+07</td>\n",
       "      <td>2.898332e+05</td>\n",
       "      <td>18314.454133</td>\n",
       "      <td>1151.087498</td>\n",
       "      <td>0.281733</td>\n",
       "    </tr>\n",
       "    <tr>\n",
       "      <th>std</th>\n",
       "      <td>8.453392e+05</td>\n",
       "      <td>0.271604</td>\n",
       "      <td>4.908924</td>\n",
       "      <td>7.041946</td>\n",
       "      <td>1.602622e+07</td>\n",
       "      <td>0.498598</td>\n",
       "      <td>21.688806</td>\n",
       "      <td>0.347192</td>\n",
       "      <td>3.192612e+07</td>\n",
       "      <td>3.178714e+05</td>\n",
       "      <td>11926.764673</td>\n",
       "      <td>1604.451418</td>\n",
       "      <td>0.449874</td>\n",
       "    </tr>\n",
       "    <tr>\n",
       "      <th>min</th>\n",
       "      <td>1.645970e+05</td>\n",
       "      <td>0.000000</td>\n",
       "      <td>2.000000</td>\n",
       "      <td>4.000000</td>\n",
       "      <td>0.000000e+00</td>\n",
       "      <td>0.000000</td>\n",
       "      <td>0.000000</td>\n",
       "      <td>0.000000</td>\n",
       "      <td>1.124200e+04</td>\n",
       "      <td>0.000000e+00</td>\n",
       "      <td>0.000000</td>\n",
       "      <td>585.000000</td>\n",
       "      <td>0.000000</td>\n",
       "    </tr>\n",
       "    <tr>\n",
       "      <th>25%</th>\n",
       "      <td>8.443410e+05</td>\n",
       "      <td>0.000000</td>\n",
       "      <td>8.000000</td>\n",
       "      <td>13.500000</td>\n",
       "      <td>2.792295e+05</td>\n",
       "      <td>0.000000</td>\n",
       "      <td>16.000000</td>\n",
       "      <td>0.000000</td>\n",
       "      <td>1.801690e+05</td>\n",
       "      <td>1.142565e+05</td>\n",
       "      <td>10067.500000</td>\n",
       "      <td>711.000000</td>\n",
       "      <td>0.000000</td>\n",
       "    </tr>\n",
       "    <tr>\n",
       "      <th>50%</th>\n",
       "      <td>1.168386e+06</td>\n",
       "      <td>0.000000</td>\n",
       "      <td>10.000000</td>\n",
       "      <td>17.000000</td>\n",
       "      <td>4.781590e+05</td>\n",
       "      <td>0.000000</td>\n",
       "      <td>32.000000</td>\n",
       "      <td>0.000000</td>\n",
       "      <td>3.095730e+05</td>\n",
       "      <td>2.093230e+05</td>\n",
       "      <td>16076.500000</td>\n",
       "      <td>731.000000</td>\n",
       "      <td>0.000000</td>\n",
       "    </tr>\n",
       "    <tr>\n",
       "      <th>75%</th>\n",
       "      <td>1.640137e+06</td>\n",
       "      <td>0.000000</td>\n",
       "      <td>14.000000</td>\n",
       "      <td>21.800000</td>\n",
       "      <td>7.935015e+05</td>\n",
       "      <td>0.000000</td>\n",
       "      <td>50.000000</td>\n",
       "      <td>0.000000</td>\n",
       "      <td>5.198820e+05</td>\n",
       "      <td>3.604062e+05</td>\n",
       "      <td>23818.000000</td>\n",
       "      <td>743.000000</td>\n",
       "      <td>1.000000</td>\n",
       "    </tr>\n",
       "    <tr>\n",
       "      <th>max</th>\n",
       "      <td>1.014934e+07</td>\n",
       "      <td>7.000000</td>\n",
       "      <td>43.000000</td>\n",
       "      <td>57.700000</td>\n",
       "      <td>1.304726e+09</td>\n",
       "      <td>7.000000</td>\n",
       "      <td>118.000000</td>\n",
       "      <td>4.000000</td>\n",
       "      <td>1.000000e+08</td>\n",
       "      <td>6.506797e+06</td>\n",
       "      <td>136679.000000</td>\n",
       "      <td>7510.000000</td>\n",
       "      <td>1.000000</td>\n",
       "    </tr>\n",
       "  </tbody>\n",
       "</table>\n",
       "</div>"
      ],
      "text/plain": [
       "       Annual Income    Tax Liens  Number of Open Accounts  \\\n",
       "count   5.943000e+03  7500.000000              7500.000000   \n",
       "mean    1.366392e+06     0.030133                11.130933   \n",
       "std     8.453392e+05     0.271604                 4.908924   \n",
       "min     1.645970e+05     0.000000                 2.000000   \n",
       "25%     8.443410e+05     0.000000                 8.000000   \n",
       "50%     1.168386e+06     0.000000                10.000000   \n",
       "75%     1.640137e+06     0.000000                14.000000   \n",
       "max     1.014934e+07     7.000000                43.000000   \n",
       "\n",
       "       Years of Credit History  Maximum Open Credit  \\\n",
       "count              7500.000000         7.500000e+03   \n",
       "mean                 18.317467         9.451537e+05   \n",
       "std                   7.041946         1.602622e+07   \n",
       "min                   4.000000         0.000000e+00   \n",
       "25%                  13.500000         2.792295e+05   \n",
       "50%                  17.000000         4.781590e+05   \n",
       "75%                  21.800000         7.935015e+05   \n",
       "max                  57.700000         1.304726e+09   \n",
       "\n",
       "       Number of Credit Problems  Months since last delinquent  Bankruptcies  \\\n",
       "count                7500.000000                   3419.000000   7486.000000   \n",
       "mean                    0.170000                     34.692600      0.117152   \n",
       "std                     0.498598                     21.688806      0.347192   \n",
       "min                     0.000000                      0.000000      0.000000   \n",
       "25%                     0.000000                     16.000000      0.000000   \n",
       "50%                     0.000000                     32.000000      0.000000   \n",
       "75%                     0.000000                     50.000000      0.000000   \n",
       "max                     7.000000                    118.000000      4.000000   \n",
       "\n",
       "       Current Loan Amount  Current Credit Balance   Monthly Debt  \\\n",
       "count         7.500000e+03            7.500000e+03    7500.000000   \n",
       "mean          1.187318e+07            2.898332e+05   18314.454133   \n",
       "std           3.192612e+07            3.178714e+05   11926.764673   \n",
       "min           1.124200e+04            0.000000e+00       0.000000   \n",
       "25%           1.801690e+05            1.142565e+05   10067.500000   \n",
       "50%           3.095730e+05            2.093230e+05   16076.500000   \n",
       "75%           5.198820e+05            3.604062e+05   23818.000000   \n",
       "max           1.000000e+08            6.506797e+06  136679.000000   \n",
       "\n",
       "       Credit Score  Credit Default  \n",
       "count   5943.000000     7500.000000  \n",
       "mean    1151.087498        0.281733  \n",
       "std     1604.451418        0.449874  \n",
       "min      585.000000        0.000000  \n",
       "25%      711.000000        0.000000  \n",
       "50%      731.000000        0.000000  \n",
       "75%      743.000000        1.000000  \n",
       "max     7510.000000        1.000000  "
      ]
     },
     "execution_count": 6,
     "metadata": {},
     "output_type": "execute_result"
    }
   ],
   "source": [
    "df.describe()"
   ]
  },
  {
   "cell_type": "code",
   "execution_count": 7,
   "metadata": {},
   "outputs": [
    {
     "name": "stdout",
     "output_type": "stream",
     "text": [
      "\n"
     ]
    }
   ],
   "source": [
    "'''                                                                    \n",
    "Home Ownership                   object      4     to_cat_candidate    cat\n",
    "Annual Income                    float64     5479  number              number-------------5943 non-null\n",
    "Years in current job             object      12    to_cat_candidate    try факторизацию---7129 non-null\n",
    "Tax Liens                        float64     8     to_cat_candidate    number\n",
    "Number of Open Accounts          float64     39    number              number\n",
    "Years of Credit History          float64     408   number              number\n",
    "Maximum Open Credit              float64     6963  number              number\n",
    "Number of Credit Problems        float64     8     to_cat_candidate    number\n",
    "Months since last delinquent     float64     90    number              number-------------3419 non-null\n",
    "Bankruptcies                     float64     6     to_cat_candidate    number-------------7486 non-null    \n",
    "Purpose                          object      15    to_cat_candidate    cat    \n",
    "Term                             object      2     to_cat_candidate    bin\n",
    "Current Loan Amount              float64     5386  number              number\n",
    "Current Credit Balance           float64     6592  number              number\n",
    "Monthly Debt                     float64     6716  number              number\n",
    "Credit Score                     float64     269   number              number------------5943 non-null\n",
    "Credit Default                   int64       2                ******\n",
    "'''\n",
    "print()"
   ]
  },
  {
   "cell_type": "code",
   "execution_count": 8,
   "metadata": {},
   "outputs": [
    {
     "data": {
      "text/plain": [
       "array(['debt consolidation', 'other', 'home improvements', 'take a trip',\n",
       "       'buy a car', 'small business', 'business loan', 'wedding',\n",
       "       'educational expenses', 'buy house', 'medical bills', 'moving',\n",
       "       'major purchase', 'vacation', 'renewable energy'], dtype=object)"
      ]
     },
     "execution_count": 8,
     "metadata": {},
     "output_type": "execute_result"
    }
   ],
   "source": [
    "df['Purpose'].unique()"
   ]
  },
  {
   "cell_type": "code",
   "execution_count": 9,
   "metadata": {},
   "outputs": [
    {
     "data": {
      "text/plain": [
       "1557"
      ]
     },
     "execution_count": 9,
     "metadata": {},
     "output_type": "execute_result"
    }
   ],
   "source": [
    "(df['Annual Income'].isnull() & df['Credit Score'].isnull()).astype('int').sum()\n"
   ]
  },
  {
   "cell_type": "code",
   "execution_count": 10,
   "metadata": {},
   "outputs": [],
   "source": [
    "# df['Credit Score_0'] = df['Credit Score'].fillna(0) не будем\n",
    "#BASE_FEATURE_NAMES.remove('Credit Score_0')"
   ]
  },
  {
   "cell_type": "code",
   "execution_count": 11,
   "metadata": {
    "colab": {},
    "colab_type": "code",
    "id": "PmA2Yz_uJhwN"
   },
   "outputs": [],
   "source": [
    "TARGET_NAME = 'Credit Default'\n",
    "BASE_FEATURE_NAMES = df.columns.drop(TARGET_NAME).tolist()"
   ]
  },
  {
   "cell_type": "code",
   "execution_count": 12,
   "metadata": {},
   "outputs": [
    {
     "data": {
      "image/png": "[encoded data removed]",
      "text/plain": [
       "<Figure size 720x576 with 1 Axes>"
      ]
     },
     "metadata": {
      "needs_background": "light"
     },
     "output_type": "display_data"
    }
   ],
   "source": [
    "corr_with_target = \\\n",
    "df[df['Current Loan Amount'] != 99999999][BASE_FEATURE_NAMES + [TARGET_NAME]].corr().iloc[:-1, -1].sort_values(ascending=False)\n",
    "\n",
    "plt.figure(figsize=(10, 8))\n",
    "\n",
    "sns.barplot(x=corr_with_target.values, y=corr_with_target.index)\n",
    "\n",
    "plt.title('Correlation with target variable без выброса')\n",
    "plt.show()"
   ]
  },
  {
   "cell_type": "code",
   "execution_count": 13,
   "metadata": {},
   "outputs": [
    {
     "data": {
      "image/png": "[encoded data removed]",
      "text/plain": [
       "<Figure size 720x576 with 1 Axes>"
      ]
     },
     "metadata": {
      "needs_background": "light"
     },
     "output_type": "display_data"
    }
   ],
   "source": [
    "corr_with_target = df[BASE_FEATURE_NAMES + [TARGET_NAME]].corr().iloc[:-1, -1].sort_values(ascending=False)\n",
    "\n",
    "plt.figure(figsize=(10, 8))\n",
    "\n",
    "sns.barplot(x=corr_with_target.values, y=corr_with_target.index)\n",
    "\n",
    "plt.title('Correlation with target variable с выбросом')\n",
    "plt.show()"
   ]
  },
  {
   "cell_type": "markdown",
   "metadata": {},
   "source": [
    "## Распределения числовых переменных"
   ]
  },
  {
   "cell_type": "markdown",
   "metadata": {},
   "source": [
    "### 'Annual Income'"
   ]
  },
  {
   "cell_type": "code",
   "execution_count": 114,
   "metadata": {
    "colab": {},
    "colab_type": "code",
    "id": "a2qiL3NGQCFa"
   },
   "outputs": [
    {
     "data": {
      "image/png": "[encoded data removed]",
      "text/plain": [
       "<Figure size 432x288 with 1 Axes>"
      ]
     },
     "metadata": {},
     "output_type": "display_data"
    }
   ],
   "source": [
    "df['Annual Income'].apply(np.log).hist(bins=30)\n",
    "plt.show()"
   ]
  },
  {
   "cell_type": "code",
   "execution_count": 15,
   "metadata": {},
   "outputs": [
    {
     "data": {
      "image/png": "[encoded data removed]",
      "text/plain": [
       "<Figure size 432x288 with 1 Axes>"
      ]
     },
     "metadata": {
      "needs_background": "light"
     },
     "output_type": "display_data"
    }
   ],
   "source": [
    "dftst['Annual Income'].apply(np.log).hist(bins=30, color='green')\n",
    "plt.show()"
   ]
  },
  {
   "cell_type": "code",
   "execution_count": 16,
   "metadata": {},
   "outputs": [],
   "source": [
    "df['log Annual Income'] = df['Annual Income'].apply(np.log)\n",
    "dftst['log Annual Income'] = dftst['Annual Income'].apply(np.log)\n",
    "BASE_FEATURE_NAMES.append('log Annual Income')\n",
    "BASE_FEATURE_NAMES.remove('Annual Income')"
   ]
  },
  {
   "cell_type": "markdown",
   "metadata": {},
   "source": [
    "### 'Number of Open Accounts'"
   ]
  },
  {
   "cell_type": "code",
   "execution_count": 17,
   "metadata": {},
   "outputs": [
    {
     "data": {
      "image/png": "[encoded data removed]",
      "text/plain": [
       "<Figure size 432x288 with 1 Axes>"
      ]
     },
     "metadata": {
      "needs_background": "light"
     },
     "output_type": "display_data"
    }
   ],
   "source": [
    "df['Number of Open Accounts'].apply(np.sqrt).hist()\n",
    "plt.show()"
   ]
  },
  {
   "cell_type": "code",
   "execution_count": 18,
   "metadata": {},
   "outputs": [
    {
     "data": {
      "image/png": "[encoded data removed]",
      "text/plain": [
       "<Figure size 432x288 with 1 Axes>"
      ]
     },
     "metadata": {
      "needs_background": "light"
     },
     "output_type": "display_data"
    }
   ],
   "source": [
    "dftst['Number of Open Accounts'].apply(np.sqrt).hist(color='green')\n",
    "plt.show()"
   ]
  },
  {
   "cell_type": "code",
   "execution_count": 19,
   "metadata": {},
   "outputs": [],
   "source": [
    "df['sqr Number of Open Accounts'] = df['Number of Open Accounts'].apply(np.sqrt)\n",
    "dftst['sqr Number of Open Accounts'] = dftst['Number of Open Accounts'].apply(np.sqrt)\n",
    "BASE_FEATURE_NAMES.append('sqr Number of Open Accounts')\n",
    "BASE_FEATURE_NAMES.remove('Number of Open Accounts')"
   ]
  },
  {
   "cell_type": "markdown",
   "metadata": {},
   "source": [
    "### 'Years of Credit History'"
   ]
  },
  {
   "cell_type": "code",
   "execution_count": 20,
   "metadata": {},
   "outputs": [
    {
     "data": {
      "image/png": "[encoded data removed]",
      "text/plain": [
       "<Figure size 432x288 with 1 Axes>"
      ]
     },
     "metadata": {
      "needs_background": "light"
     },
     "output_type": "display_data"
    }
   ],
   "source": [
    "df['Years of Credit History'].apply(np.sqrt).hist(bins=20)\n",
    "plt.show()"
   ]
  },
  {
   "cell_type": "code",
   "execution_count": 21,
   "metadata": {},
   "outputs": [
    {
     "data": {
      "image/png": "[encoded data removed]",
      "text/plain": [
       "<Figure size 432x288 with 1 Axes>"
      ]
     },
     "metadata": {
      "needs_background": "light"
     },
     "output_type": "display_data"
    }
   ],
   "source": [
    "dftst['Years of Credit History'].apply(np.sqrt).hist(bins=20, color='green')\n",
    "plt.show()"
   ]
  },
  {
   "cell_type": "code",
   "execution_count": 22,
   "metadata": {},
   "outputs": [],
   "source": [
    "df['sqr Years of Credit History'] = df['Years of Credit History'].apply(np.sqrt)\n",
    "dftst['sqr Years of Credit History'] = dftst['Years of Credit History'].apply(np.sqrt)\n",
    "BASE_FEATURE_NAMES.append('sqr Years of Credit History')\n",
    "BASE_FEATURE_NAMES.remove('Years of Credit History')"
   ]
  },
  {
   "cell_type": "markdown",
   "metadata": {},
   "source": [
    "### 'Maximum Open Credit'"
   ]
  },
  {
   "cell_type": "code",
   "execution_count": 23,
   "metadata": {},
   "outputs": [
    {
     "data": {
      "image/png": "[encoded data removed]",
      "text/plain": [
       "<Figure size 432x288 with 1 Axes>"
      ]
     },
     "metadata": {
      "needs_background": "light"
     },
     "output_type": "display_data"
    }
   ],
   "source": [
    "pl = (df['Maximum Open Credit']+1).apply(np.log).hist(bins=50)\n",
    "pl.set_xticks(range(30))\n",
    "plt.show()"
   ]
  },
  {
   "cell_type": "code",
   "execution_count": 24,
   "metadata": {},
   "outputs": [
    {
     "data": {
      "text/plain": [
       "((65,), (27,))"
      ]
     },
     "execution_count": 24,
     "metadata": {},
     "output_type": "execute_result"
    }
   ],
   "source": [
    "# выбросами являются значения 0 и >10M\n",
    "df.loc[df['Maximum Open Credit'] == 0, 'Maximum Open Credit'].shape,\\\n",
    "df.loc[df['Maximum Open Credit'] > 2**23, 'Maximum Open Credit'].shape"
   ]
  },
  {
   "cell_type": "code",
   "execution_count": 25,
   "metadata": {},
   "outputs": [
    {
     "data": {
      "image/png": "[encoded data removed]",
      "text/plain": [
       "<Figure size 432x288 with 1 Axes>"
      ]
     },
     "metadata": {
      "needs_background": "light"
     },
     "output_type": "display_data"
    }
   ],
   "source": [
    "pl = (dftst['Maximum Open Credit']+1).apply(np.log).hist(bins=50,color='green')\n",
    "pl.set_xticks(range(30))\n",
    "plt.show()"
   ]
  },
  {
   "cell_type": "code",
   "execution_count": 26,
   "metadata": {},
   "outputs": [
    {
     "data": {
      "text/plain": [
       "((29,), (11,))"
      ]
     },
     "execution_count": 26,
     "metadata": {},
     "output_type": "execute_result"
    }
   ],
   "source": [
    "dftst.loc[df['Maximum Open Credit'] == 0, 'Maximum Open Credit'].shape,\\\n",
    "dftst.loc[df['Maximum Open Credit'] > 2**23, 'Maximum Open Credit'].shape"
   ]
  },
  {
   "cell_type": "code",
   "execution_count": 27,
   "metadata": {},
   "outputs": [],
   "source": [
    "med = df['Maximum Open Credit'].median()"
   ]
  },
  {
   "cell_type": "code",
   "execution_count": 28,
   "metadata": {},
   "outputs": [
    {
     "data": {
      "text/plain": [
       "(478159.0, 478676.0)"
      ]
     },
     "execution_count": 28,
     "metadata": {},
     "output_type": "execute_result"
    }
   ],
   "source": [
    "df['Maximum Open Credit'].median(), dftst['Maximum Open Credit'].median()"
   ]
  },
  {
   "cell_type": "code",
   "execution_count": 29,
   "metadata": {},
   "outputs": [],
   "source": [
    "# заменим верхний выброс медианой\n",
    "\n",
    "df.loc[df['Maximum Open Credit'] > 2**23, 'Maximum Open Credit'] = med\n",
    "dftst.loc[dftst['Maximum Open Credit'] > 2**23, 'Maximum Open Credit'] = med"
   ]
  },
  {
   "cell_type": "code",
   "execution_count": 30,
   "metadata": {},
   "outputs": [
    {
     "data": {
      "image/png": "[encoded data removed]",
      "text/plain": [
       "<Figure size 432x288 with 1 Axes>"
      ]
     },
     "metadata": {
      "needs_background": "light"
     },
     "output_type": "display_data"
    }
   ],
   "source": [
    "pl = (df['Maximum Open Credit']+1).apply(np.log).hist(bins=40)\n",
    "pl.set_xticks(range(30))\n",
    "plt.show()"
   ]
  },
  {
   "cell_type": "code",
   "execution_count": 31,
   "metadata": {},
   "outputs": [
    {
     "data": {
      "text/plain": [
       "(0.15384615384615385, 0.28285137861466036)"
      ]
     },
     "execution_count": 31,
     "metadata": {},
     "output_type": "execute_result"
    }
   ],
   "source": [
    "df.loc[df['Maximum Open Credit']==0, TARGET_NAME].mean(), df.loc[df['Maximum Open Credit']!=0, TARGET_NAME].mean()"
   ]
  },
  {
   "cell_type": "code",
   "execution_count": 32,
   "metadata": {},
   "outputs": [],
   "source": [
    "# Нижний выброс оказывает существенное влияние на целевую переменную, введем дополнительную переменную, а 0 заменим на null\n",
    "df['bin nomore Open Credit'] = np.where(df['Maximum Open Credit']==0, 1, 0)\n",
    "dftst['bin nomore Open Credit'] = np.where(dftst['Maximum Open Credit']==0, 1, 0)\n",
    "\n",
    "df['Maximum Open Credit'] = np.where(df['Maximum Open Credit']==0, np.nan, df['Maximum Open Credit'])\n",
    "dftst['Maximum Open Credit'] = np.where(dftst['Maximum Open Credit']==0, np.nan, dftst['Maximum Open Credit'])"
   ]
  },
  {
   "cell_type": "code",
   "execution_count": 33,
   "metadata": {},
   "outputs": [
    {
     "data": {
      "image/png": "[encoded data removed]",
      "text/plain": [
       "<Figure size 432x288 with 1 Axes>"
      ]
     },
     "metadata": {
      "needs_background": "light"
     },
     "output_type": "display_data"
    }
   ],
   "source": [
    "pl = (df['Maximum Open Credit']+1).apply(np.log).hist(bins=40)\n",
    "#pl.set_xticks(range(30))\n",
    "plt.show()"
   ]
  },
  {
   "cell_type": "code",
   "execution_count": 34,
   "metadata": {},
   "outputs": [
    {
     "data": {
      "image/png": "[encoded data removed]",
      "text/plain": [
       "<Figure size 432x288 with 1 Axes>"
      ]
     },
     "metadata": {
      "needs_background": "light"
     },
     "output_type": "display_data"
    }
   ],
   "source": [
    "pl = (dftst['Maximum Open Credit']+1).apply(np.log).hist(bins=40, color='green')\n",
    "#pl.set_xticks(range(30))\n",
    "plt.show()"
   ]
  },
  {
   "cell_type": "code",
   "execution_count": 35,
   "metadata": {},
   "outputs": [],
   "source": [
    "BASE_FEATURE_NAMES.append('bin nomore Open Credit')\n",
    "df['log Maximum Open Credit'] = df['Maximum Open Credit'].apply(np.log)\n",
    "dftst['log Maximum Open Credit'] = dftst['Maximum Open Credit'].apply(np.log)\n",
    "BASE_FEATURE_NAMES.append('log Maximum Open Credit')\n",
    "BASE_FEATURE_NAMES.remove('Maximum Open Credit')"
   ]
  },
  {
   "cell_type": "markdown",
   "metadata": {},
   "source": [
    "### 'Current Loan Amount'"
   ]
  },
  {
   "cell_type": "code",
   "execution_count": 36,
   "metadata": {
    "colab": {
     "base_uri": "https://localhost:8080/",
     "height": 283
    },
    "colab_type": "code",
    "id": "xncyu-cGVtfq",
    "outputId": "d7f0e97f-cfc9-4344-94bc-2709ccb391c4"
   },
   "outputs": [
    {
     "data": {
      "text/plain": [
       "<matplotlib.axes._subplots.AxesSubplot at 0x232794dccc0>"
      ]
     },
     "execution_count": 36,
     "metadata": {},
     "output_type": "execute_result"
    },
    {
     "data": {
      "image/png": "[encoded data removed]",
      "text/plain": [
       "<Figure size 432x288 with 1 Axes>"
      ]
     },
     "metadata": {
      "needs_background": "light"
     },
     "output_type": "display_data"
    }
   ],
   "source": [
    "df['Current Loan Amount'].apply(np.log10).hist(bins=30)"
   ]
  },
  {
   "cell_type": "code",
   "execution_count": 37,
   "metadata": {},
   "outputs": [
    {
     "data": {
      "text/plain": [
       "<matplotlib.axes._subplots.AxesSubplot at 0x23278e85860>"
      ]
     },
     "execution_count": 37,
     "metadata": {},
     "output_type": "execute_result"
    },
    {
     "data": {
      "image/png": "[encoded data removed]",
      "text/plain": [
       "<Figure size 432x288 with 1 Axes>"
      ]
     },
     "metadata": {
      "needs_background": "light"
     },
     "output_type": "display_data"
    }
   ],
   "source": [
    "dftst['Current Loan Amount'].apply(np.log10).hist(bins=30, color='green')"
   ]
  },
  {
   "cell_type": "code",
   "execution_count": 38,
   "metadata": {},
   "outputs": [],
   "source": [
    "df['bin isflyer Current Loan Amount'] = np.where(df['Current Loan Amount']>=10**7, 1, 0)\n",
    "dftst['bin isflyer Current Loan Amount'] = np.where(dftst['Current Loan Amount']>=10**7, 1, 0)\n",
    "\n",
    "df['Current Loan Amount'] = np.where(df['Current Loan Amount']>=10**7, np.nan, df['Current Loan Amount'])\n",
    "dftst['Current Loan Amount'] = np.where(dftst['Current Loan Amount']>=10**7, np.nan, dftst['Current Loan Amount'])"
   ]
  },
  {
   "cell_type": "code",
   "execution_count": 39,
   "metadata": {},
   "outputs": [
    {
     "data": {
      "text/plain": [
       "<matplotlib.axes._subplots.AxesSubplot at 0x232790befd0>"
      ]
     },
     "execution_count": 39,
     "metadata": {},
     "output_type": "execute_result"
    },
    {
     "data": {
      "image/png": "[encoded data removed]",
      "text/plain": [
       "<Figure size 432x288 with 1 Axes>"
      ]
     },
     "metadata": {
      "needs_background": "light"
     },
     "output_type": "display_data"
    }
   ],
   "source": [
    "df['Current Loan Amount'].apply(np.sqrt).hist(bins=15)"
   ]
  },
  {
   "cell_type": "code",
   "execution_count": 40,
   "metadata": {},
   "outputs": [
    {
     "data": {
      "text/plain": [
       "<matplotlib.axes._subplots.AxesSubplot at 0x2327914fd68>"
      ]
     },
     "execution_count": 40,
     "metadata": {},
     "output_type": "execute_result"
    },
    {
     "data": {
      "image/png": "[encoded data removed]",
      "text/plain": [
       "<Figure size 432x288 with 1 Axes>"
      ]
     },
     "metadata": {
      "needs_background": "light"
     },
     "output_type": "display_data"
    }
   ],
   "source": [
    "dftst['Current Loan Amount'].apply(np.sqrt).hist(bins=15, color='green')"
   ]
  },
  {
   "cell_type": "code",
   "execution_count": 41,
   "metadata": {},
   "outputs": [],
   "source": [
    "BASE_FEATURE_NAMES.append('bin isflyer Current Loan Amount')\n",
    "df['sqr Current Loan Amount'] = df['Current Loan Amount'].apply(np.sqrt)\n",
    "dftst['sqr Current Loan Amount'] = dftst['Current Loan Amount'].apply(np.sqrt)\n",
    "BASE_FEATURE_NAMES.append('sqr Current Loan Amount')\n",
    "BASE_FEATURE_NAMES.remove('Current Loan Amount')"
   ]
  },
  {
   "cell_type": "markdown",
   "metadata": {},
   "source": [
    "### 'Current Credit Balance'"
   ]
  },
  {
   "cell_type": "code",
   "execution_count": 42,
   "metadata": {},
   "outputs": [
    {
     "data": {
      "image/png": "[encoded data removed]",
      "text/plain": [
       "<Figure size 432x288 with 1 Axes>"
      ]
     },
     "metadata": {
      "needs_background": "light"
     },
     "output_type": "display_data"
    }
   ],
   "source": [
    "(df['Current Credit Balance'] + 1).apply(np.log).hist(bins=30)\n",
    "plt.show()"
   ]
  },
  {
   "cell_type": "code",
   "execution_count": 43,
   "metadata": {},
   "outputs": [
    {
     "data": {
      "image/png": "[encoded data removed]",
      "text/plain": [
       "<Figure size 432x288 with 1 Axes>"
      ]
     },
     "metadata": {
      "needs_background": "light"
     },
     "output_type": "display_data"
    }
   ],
   "source": [
    "(dftst['Current Credit Balance'] + 1).apply(np.log).hist(bins=30, color='green')\n",
    "plt.show()"
   ]
  },
  {
   "cell_type": "code",
   "execution_count": 44,
   "metadata": {},
   "outputs": [
    {
     "data": {
      "text/plain": [
       "(0.16981132075471697, 0.2825298778031422)"
      ]
     },
     "execution_count": 44,
     "metadata": {},
     "output_type": "execute_result"
    }
   ],
   "source": [
    "df.loc[df['Current Credit Balance']==0, TARGET_NAME].mean(), df.loc[df['Current Credit Balance']!=0, TARGET_NAME].mean()"
   ]
  },
  {
   "cell_type": "code",
   "execution_count": 45,
   "metadata": {},
   "outputs": [],
   "source": [
    "# Нижний выброс оказывает существенное влияние на целевую переменную, введем дополнительную переменную, а 0 заменим на null\n",
    "df['bin no Current Credit Balance'] = np.where(df['Current Credit Balance']==0, 1, 0)\n",
    "dftst['bin no Current Credit Balance'] = np.where(dftst['Current Credit Balance']==0, 1, 0)\n",
    "\n",
    "df['Current Credit Balance'] = np.where(df['Current Credit Balance']==0, np.nan, df['Current Credit Balance'])\n",
    "dftst['Current Credit Balance'] = np.where(dftst['Current Credit Balance']==0, np.nan, dftst['Current Credit Balance'])"
   ]
  },
  {
   "cell_type": "code",
   "execution_count": 46,
   "metadata": {},
   "outputs": [],
   "source": [
    "BASE_FEATURE_NAMES.append('bin no Current Credit Balance')\n",
    "df['log Current Credit Balance'] = df['Current Credit Balance'].apply(np.log)\n",
    "dftst['log Current Credit Balance'] = dftst['Current Credit Balance'].apply(np.log)\n",
    "BASE_FEATURE_NAMES.append('log Current Credit Balance')\n",
    "BASE_FEATURE_NAMES.remove('Current Credit Balance')"
   ]
  },
  {
   "cell_type": "markdown",
   "metadata": {},
   "source": [
    "### 'Monthly Debt'"
   ]
  },
  {
   "cell_type": "code",
   "execution_count": 47,
   "metadata": {},
   "outputs": [
    {
     "data": {
      "image/png": "[encoded data removed]",
      "text/plain": [
       "<Figure size 432x288 with 1 Axes>"
      ]
     },
     "metadata": {
      "needs_background": "light"
     },
     "output_type": "display_data"
    }
   ],
   "source": [
    "(df['Monthly Debt']).apply(np.sqrt).hist(bins=30)\n",
    "plt.show()"
   ]
  },
  {
   "cell_type": "code",
   "execution_count": 48,
   "metadata": {},
   "outputs": [
    {
     "data": {
      "image/png": "[encoded data removed]",
      "text/plain": [
       "<Figure size 432x288 with 1 Axes>"
      ]
     },
     "metadata": {
      "needs_background": "light"
     },
     "output_type": "display_data"
    }
   ],
   "source": [
    "(dftst['Monthly Debt']).apply(np.sqrt).hist(bins=30, color='green')\n",
    "plt.show()"
   ]
  },
  {
   "cell_type": "code",
   "execution_count": 49,
   "metadata": {},
   "outputs": [],
   "source": [
    "df['sqr Monthly Debt'] = df['Monthly Debt'].apply(np.sqrt)\n",
    "dftst['sqr Monthly Debt'] = dftst['Monthly Debt'].apply(np.sqrt)\n",
    "BASE_FEATURE_NAMES.append('sqr Monthly Debt')\n",
    "BASE_FEATURE_NAMES.remove('Monthly Debt')"
   ]
  },
  {
   "cell_type": "markdown",
   "metadata": {},
   "source": [
    "## 'Credit Score'"
   ]
  },
  {
   "cell_type": "code",
   "execution_count": 50,
   "metadata": {},
   "outputs": [
    {
     "data": {
      "image/png": "[encoded data removed]",
      "text/plain": [
       "<Figure size 432x288 with 1 Axes>"
      ]
     },
     "metadata": {
      "needs_background": "light"
     },
     "output_type": "display_data"
    }
   ],
   "source": [
    "(df['Credit Score']).apply(np.log2).hist(bins=100)\n",
    "plt.show()"
   ]
  },
  {
   "cell_type": "code",
   "execution_count": 51,
   "metadata": {},
   "outputs": [
    {
     "data": {
      "image/png": "[encoded data removed]",
      "text/plain": [
       "<Figure size 432x288 with 1 Axes>"
      ]
     },
     "metadata": {
      "needs_background": "light"
     },
     "output_type": "display_data"
    }
   ],
   "source": [
    "(dftst['Credit Score']).apply(np.log2).hist(bins=100, color='green')\n",
    "plt.show()"
   ]
  },
  {
   "cell_type": "code",
   "execution_count": 52,
   "metadata": {},
   "outputs": [
    {
     "data": {
      "text/plain": [
       "(5543, 400)"
      ]
     },
     "execution_count": 52,
     "metadata": {},
     "output_type": "execute_result"
    }
   ],
   "source": [
    "(df['Credit Score']<2000).astype('int').sum(), (df['Credit Score']>=2000).astype('int').sum()"
   ]
  },
  {
   "cell_type": "code",
   "execution_count": 53,
   "metadata": {},
   "outputs": [
    {
     "data": {
      "text/plain": [
       "(1827, 160)"
      ]
     },
     "execution_count": 53,
     "metadata": {},
     "output_type": "execute_result"
    }
   ],
   "source": [
    "(dftst['Credit Score']<2000).astype('int').sum(), (dftst['Credit Score']>=2000).astype('int').sum()"
   ]
  },
  {
   "cell_type": "code",
   "execution_count": 54,
   "metadata": {},
   "outputs": [
    {
     "data": {
      "text/plain": [
       "(0.21360274219736605, 1.0)"
      ]
     },
     "execution_count": 54,
     "metadata": {},
     "output_type": "execute_result"
    }
   ],
   "source": [
    "df.loc[df['Credit Score']<2000, TARGET_NAME].mean(), df.loc[df['Credit Score']>=2000, TARGET_NAME].mean()"
   ]
  },
  {
   "cell_type": "code",
   "execution_count": 55,
   "metadata": {},
   "outputs": [],
   "source": [
    "df['bin high Credit Score'] = np.where(df['Credit Score']>=2000, 1, 0)\n",
    "dftst['bin high Credit Score'] = np.where(dftst['Credit Score']>=2000, 1, 0)\n",
    "\n",
    "df['Credit Score'] = np.where(df['Credit Score']>=2000, np.nan, df['Credit Score'])\n",
    "dftst['Credit Score'] = np.where(dftst['Credit Score']>=2000, np.nan, dftst['Credit Score'])"
   ]
  },
  {
   "cell_type": "code",
   "execution_count": 56,
   "metadata": {},
   "outputs": [
    {
     "data": {
      "image/png": "[encoded data removed]",
      "text/plain": [
       "<Figure size 432x288 with 1 Axes>"
      ]
     },
     "metadata": {
      "needs_background": "light"
     },
     "output_type": "display_data"
    }
   ],
   "source": [
    "(df['Credit Score']).apply(np.sqrt).hist(bins=30)\n",
    "plt.show()"
   ]
  },
  {
   "cell_type": "code",
   "execution_count": 57,
   "metadata": {},
   "outputs": [
    {
     "data": {
      "image/png": "[encoded data removed]",
      "text/plain": [
       "<Figure size 432x288 with 1 Axes>"
      ]
     },
     "metadata": {
      "needs_background": "light"
     },
     "output_type": "display_data"
    }
   ],
   "source": [
    "(dftst['Credit Score']).apply(np.sqrt).hist(bins=30, color='green')\n",
    "plt.show()"
   ]
  },
  {
   "cell_type": "code",
   "execution_count": 58,
   "metadata": {},
   "outputs": [],
   "source": [
    "BASE_FEATURE_NAMES.append('bin high Credit Score')\n",
    "df['sqr Credit Score'] = df['Credit Score'].apply(np.sqrt)\n",
    "dftst['sqr Credit Score'] = dftst['Credit Score'].apply(np.sqrt)\n",
    "BASE_FEATURE_NAMES.append('sqr Credit Score')\n",
    "BASE_FEATURE_NAMES.remove('Credit Score')"
   ]
  },
  {
   "cell_type": "code",
   "execution_count": 59,
   "metadata": {},
   "outputs": [
    {
     "data": {
      "text/plain": [
       "['Bankruptcies',\n",
       " 'Home Ownership',\n",
       " 'Months since last delinquent',\n",
       " 'Number of Credit Problems',\n",
       " 'Purpose',\n",
       " 'Tax Liens',\n",
       " 'Term',\n",
       " 'Years in current job',\n",
       " 'bin high Credit Score',\n",
       " 'bin isflyer Current Loan Amount',\n",
       " 'bin no Current Credit Balance',\n",
       " 'bin nomore Open Credit',\n",
       " 'log Annual Income',\n",
       " 'log Current Credit Balance',\n",
       " 'log Maximum Open Credit',\n",
       " 'sqr Credit Score',\n",
       " 'sqr Current Loan Amount',\n",
       " 'sqr Monthly Debt',\n",
       " 'sqr Number of Open Accounts',\n",
       " 'sqr Years of Credit History']"
      ]
     },
     "execution_count": 59,
     "metadata": {},
     "output_type": "execute_result"
    }
   ],
   "source": [
    "BASE_FEATURE_NAMES = sorted(list(set(BASE_FEATURE_NAMES)))\n",
    "BASE_FEATURE_NAMES"
   ]
  },
  {
   "cell_type": "code",
   "execution_count": null,
   "metadata": {},
   "outputs": [],
   "source": []
  },
  {
   "cell_type": "markdown",
   "metadata": {},
   "source": [
    "## 'Years in current job' - лабелизация"
   ]
  },
  {
   "cell_type": "code",
   "execution_count": 60,
   "metadata": {
    "colab": {},
    "colab_type": "code",
    "id": "45RIiL5QKrBw"
   },
   "outputs": [
    {
     "data": {
      "image/png": "[encoded data removed]",
      "text/plain": [
       "<Figure size 720x576 with 1 Axes>"
      ]
     },
     "metadata": {
      "needs_background": "light"
     },
     "output_type": "display_data"
    }
   ],
   "source": [
    "y = df['Years in current job'].value_counts().index\n",
    "x = list(df['Years in current job'].value_counts())\n",
    "\n",
    "plt.figure(figsize=(10, 8))\n",
    "\n",
    "sns.barplot(x=x, y=y)\n",
    "\n",
    "plt.title('Years in current job')\n",
    "plt.show()"
   ]
  },
  {
   "cell_type": "code",
   "execution_count": 61,
   "metadata": {},
   "outputs": [
    {
     "data": {
      "text/plain": [
       "10+ years    810\n",
       "3 years      228\n",
       "2 years      212\n",
       "< 1 year     207\n",
       "5 years      169\n",
       "1 year       153\n",
       "4 years      152\n",
       "7 years      140\n",
       "6 years      137\n",
       "8 years      107\n",
       "9 years       99\n",
       "Name: Years in current job, dtype: int64"
      ]
     },
     "execution_count": 61,
     "metadata": {},
     "output_type": "execute_result"
    }
   ],
   "source": [
    "dftst['Years in current job'].value_counts()"
   ]
  },
  {
   "cell_type": "code",
   "execution_count": 62,
   "metadata": {},
   "outputs": [],
   "source": [
    "Years_in_cj_dict = {'10+ years':10, '2 years':2, '3 years':3, '< 1 year':0, '5 years':5, '1 year':1,\n",
    "       '4 years':4, '6 years':6, '7 years':7, '8 years':8, '9 years':9}"
   ]
  },
  {
   "cell_type": "code",
   "execution_count": 63,
   "metadata": {},
   "outputs": [],
   "source": [
    "df['int Years in current job'] = df['Years in current job'].map(Years_in_cj_dict)\n",
    "dftst['int Years in current job'] = dftst['Years in current job'].map(Years_in_cj_dict)"
   ]
  },
  {
   "cell_type": "markdown",
   "metadata": {},
   "source": [
    "## И другие лабим"
   ]
  },
  {
   "cell_type": "code",
   "execution_count": 64,
   "metadata": {},
   "outputs": [],
   "source": [
    "Home_Ownership_dict = {'Own Home':0.3, 'Home Mortgage':0.25, 'Rent':0.31, 'Have Mortgage':0.17}\n",
    "\n",
    "df['flt Home Ownership'] = df['Home Ownership'].map(Home_Ownership_dict)\n",
    "dftst['flt Home Ownership'] = dftst['Home Ownership'].map(Home_Ownership_dict)"
   ]
  },
  {
   "cell_type": "code",
   "execution_count": 65,
   "metadata": {},
   "outputs": [
    {
     "data": {
      "text/plain": [
       "Home Ownership\n",
       "Have Mortgage    0.166667\n",
       "Home Mortgage    0.251856\n",
       "Own Home         0.296754\n",
       "Rent             0.313046\n",
       "Name: Credit Default, dtype: float64"
      ]
     },
     "execution_count": 65,
     "metadata": {},
     "output_type": "execute_result"
    }
   ],
   "source": [
    "df.groupby(['Home Ownership'])[TARGET_NAME].mean().sort_values()"
   ]
  },
  {
   "cell_type": "code",
   "execution_count": 66,
   "metadata": {},
   "outputs": [],
   "source": [
    "Term_dict = {'Short Term':0, 'Long Term':1}\n",
    "\n",
    "df['bin Term'] = df['Term'].map(Term_dict)\n",
    "dftst['bin Term'] = dftst['Term'].map(Term_dict)"
   ]
  },
  {
   "cell_type": "code",
   "execution_count": 67,
   "metadata": {},
   "outputs": [
    {
     "data": {
      "text/html": [
       "<div>\n",
       "<style scoped>\n",
       "    .dataframe tbody tr th:only-of-type {\n",
       "        vertical-align: middle;\n",
       "    }\n",
       "\n",
       "    .dataframe tbody tr th {\n",
       "        vertical-align: top;\n",
       "    }\n",
       "\n",
       "    .dataframe thead th {\n",
       "        text-align: right;\n",
       "    }\n",
       "</style>\n",
       "<table border=\"1\" class=\"dataframe\">\n",
       "  <thead>\n",
       "    <tr style=\"text-align: right;\">\n",
       "      <th></th>\n",
       "      <th>Purpose</th>\n",
       "      <th>Purpose</th>\n",
       "    </tr>\n",
       "  </thead>\n",
       "  <tbody>\n",
       "    <tr>\n",
       "      <th>business loan</th>\n",
       "      <td>129</td>\n",
       "      <td>30.0</td>\n",
       "    </tr>\n",
       "    <tr>\n",
       "      <th>buy a car</th>\n",
       "      <td>96</td>\n",
       "      <td>34.0</td>\n",
       "    </tr>\n",
       "    <tr>\n",
       "      <th>buy house</th>\n",
       "      <td>34</td>\n",
       "      <td>19.0</td>\n",
       "    </tr>\n",
       "    <tr>\n",
       "      <th>debt consolidation</th>\n",
       "      <td>5944</td>\n",
       "      <td>1973.0</td>\n",
       "    </tr>\n",
       "    <tr>\n",
       "      <th>educational expenses</th>\n",
       "      <td>10</td>\n",
       "      <td>3.0</td>\n",
       "    </tr>\n",
       "    <tr>\n",
       "      <th>home improvements</th>\n",
       "      <td>412</td>\n",
       "      <td>140.0</td>\n",
       "    </tr>\n",
       "    <tr>\n",
       "      <th>major purchase</th>\n",
       "      <td>40</td>\n",
       "      <td>9.0</td>\n",
       "    </tr>\n",
       "    <tr>\n",
       "      <th>medical bills</th>\n",
       "      <td>71</td>\n",
       "      <td>27.0</td>\n",
       "    </tr>\n",
       "    <tr>\n",
       "      <th>moving</th>\n",
       "      <td>11</td>\n",
       "      <td>1.0</td>\n",
       "    </tr>\n",
       "    <tr>\n",
       "      <th>other</th>\n",
       "      <td>665</td>\n",
       "      <td>240.0</td>\n",
       "    </tr>\n",
       "    <tr>\n",
       "      <th>renewable energy</th>\n",
       "      <td>2</td>\n",
       "      <td>NaN</td>\n",
       "    </tr>\n",
       "    <tr>\n",
       "      <th>small business</th>\n",
       "      <td>26</td>\n",
       "      <td>5.0</td>\n",
       "    </tr>\n",
       "    <tr>\n",
       "      <th>take a trip</th>\n",
       "      <td>37</td>\n",
       "      <td>14.0</td>\n",
       "    </tr>\n",
       "    <tr>\n",
       "      <th>vacation</th>\n",
       "      <td>8</td>\n",
       "      <td>3.0</td>\n",
       "    </tr>\n",
       "    <tr>\n",
       "      <th>wedding</th>\n",
       "      <td>15</td>\n",
       "      <td>2.0</td>\n",
       "    </tr>\n",
       "  </tbody>\n",
       "</table>\n",
       "</div>"
      ],
      "text/plain": [
       "                      Purpose  Purpose\n",
       "business loan             129     30.0\n",
       "buy a car                  96     34.0\n",
       "buy house                  34     19.0\n",
       "debt consolidation       5944   1973.0\n",
       "educational expenses       10      3.0\n",
       "home improvements         412    140.0\n",
       "major purchase             40      9.0\n",
       "medical bills              71     27.0\n",
       "moving                     11      1.0\n",
       "other                     665    240.0\n",
       "renewable energy            2      NaN\n",
       "small business             26      5.0\n",
       "take a trip                37     14.0\n",
       "vacation                    8      3.0\n",
       "wedding                    15      2.0"
      ]
     },
     "execution_count": 67,
     "metadata": {},
     "output_type": "execute_result"
    }
   ],
   "source": [
    "pd.concat([df['Purpose'].value_counts(), dftst['Purpose'].value_counts()], axis=1)"
   ]
  },
  {
   "cell_type": "code",
   "execution_count": 68,
   "metadata": {},
   "outputs": [
    {
     "data": {
      "text/plain": [
       "Purpose\n",
       "educational expenses    0.100000\n",
       "moving                  0.181818\n",
       "major purchase          0.225000\n",
       "buy a car               0.250000\n",
       "vacation                0.250000\n",
       "home improvements       0.262136\n",
       "buy house               0.264706\n",
       "wedding                 0.266667\n",
       "take a trip             0.270270\n",
       "debt consolidation      0.278264\n",
       "other                   0.296241\n",
       "medical bills           0.309859\n",
       "business loan           0.426357\n",
       "small business          0.538462\n",
       "renewable energy        1.000000\n",
       "Name: Credit Default, dtype: float64"
      ]
     },
     "execution_count": 68,
     "metadata": {},
     "output_type": "execute_result"
    }
   ],
   "source": [
    "df.groupby(['Purpose'])[TARGET_NAME].mean().sort_values()"
   ]
  },
  {
   "cell_type": "code",
   "execution_count": 69,
   "metadata": {},
   "outputs": [],
   "source": [
    "Purpose_dict = {'debt consolidation':0.28, 'other':0.296, 'home improvements':0.262, 'take a trip':0.27,\n",
    "       'buy a car':0.251, 'small business':0.54, 'business loan':0.43, 'wedding':0.266,\n",
    "       'educational expenses':0.1, 'buy house':0.265, 'medical bills':0.31, 'moving':0.18,\n",
    "       'major purchase':0.23, 'vacation':0.25, 'renewable energy':1}\n",
    "\n",
    "df['flt Purpose'] = df['Purpose'].map(Purpose_dict)\n",
    "dftst['flt Purpose'] = dftst['Purpose'].map(Purpose_dict)"
   ]
  },
  {
   "cell_type": "code",
   "execution_count": 70,
   "metadata": {},
   "outputs": [],
   "source": [
    "BASE_FEATURE_NAMES.remove('Home Ownership')\n",
    "BASE_FEATURE_NAMES.remove('Purpose')\n",
    "BASE_FEATURE_NAMES.remove('Term')\n",
    "BASE_FEATURE_NAMES.remove('Years in current job')"
   ]
  },
  {
   "cell_type": "code",
   "execution_count": 71,
   "metadata": {},
   "outputs": [],
   "source": [
    "BASE_FEATURE_NAMES.append('int Years in current job')\n",
    "BASE_FEATURE_NAMES.append('flt Home Ownership')\n",
    "BASE_FEATURE_NAMES.append('bin Term')\n",
    "BASE_FEATURE_NAMES.append('flt Purpose')"
   ]
  },
  {
   "cell_type": "code",
   "execution_count": 72,
   "metadata": {},
   "outputs": [
    {
     "name": "stdout",
     "output_type": "stream",
     "text": [
      "<class 'pandas.core.frame.DataFrame'>\n",
      "RangeIndex: 7500 entries, 0 to 7499\n",
      "Data columns (total 20 columns):\n",
      "Bankruptcies                       7486 non-null float64\n",
      "Months since last delinquent       3419 non-null float64\n",
      "Number of Credit Problems          7500 non-null float64\n",
      "Tax Liens                          7500 non-null float64\n",
      "bin high Credit Score              7500 non-null int32\n",
      "bin isflyer Current Loan Amount    7500 non-null int32\n",
      "bin no Current Credit Balance      7500 non-null int32\n",
      "bin nomore Open Credit             7500 non-null int32\n",
      "log Annual Income                  5943 non-null float64\n",
      "log Current Credit Balance         7447 non-null float64\n",
      "log Maximum Open Credit            7435 non-null float64\n",
      "sqr Credit Score                   5543 non-null float64\n",
      "sqr Current Loan Amount            6630 non-null float64\n",
      "sqr Monthly Debt                   7500 non-null float64\n",
      "sqr Number of Open Accounts        7500 non-null float64\n",
      "sqr Years of Credit History        7500 non-null float64\n",
      "int Years in current job           7129 non-null float64\n",
      "flt Home Ownership                 7500 non-null float64\n",
      "bin Term                           7500 non-null int64\n",
      "flt Purpose                        7500 non-null float64\n",
      "dtypes: float64(15), int32(4), int64(1)\n",
      "memory usage: 1.0 MB\n"
     ]
    }
   ],
   "source": [
    "df[BASE_FEATURE_NAMES].info()"
   ]
  },
  {
   "cell_type": "markdown",
   "metadata": {},
   "source": [
    "## Влияние числовых переменных на цель"
   ]
  },
  {
   "cell_type": "code",
   "execution_count": 73,
   "metadata": {
    "colab": {
     "base_uri": "https://localhost:8080/",
     "height": 69
    },
    "colab_type": "code",
    "id": "axajb10fJolL",
    "outputId": "991c1485-6ed2-4c24-962d-a13d68c6114a"
   },
   "outputs": [
    {
     "data": {
      "text/plain": [
       "0    5387\n",
       "1    2113\n",
       "Name: Credit Default, dtype: int64"
      ]
     },
     "execution_count": 73,
     "metadata": {},
     "output_type": "execute_result"
    }
   ],
   "source": [
    "df[TARGET_NAME].value_counts()"
   ]
  },
  {
   "cell_type": "code",
   "execution_count": 74,
   "metadata": {},
   "outputs": [
    {
     "data": {
      "image/png": "[encoded data removed]",
      "text/plain": [
       "<Figure size 720x576 with 1 Axes>"
      ]
     },
     "metadata": {
      "needs_background": "light"
     },
     "output_type": "display_data"
    }
   ],
   "source": [
    "corr_with_target = df[BASE_FEATURE_NAMES + [TARGET_NAME]].corr().iloc[:-1, -1].sort_values(ascending=False)\n",
    "\n",
    "plt.figure(figsize=(10, 8))\n",
    "\n",
    "sns.barplot(x=corr_with_target.values, y=corr_with_target.index)\n",
    "\n",
    "plt.title('Correlation with target variable с выбросом')\n",
    "plt.show()"
   ]
  },
  {
   "cell_type": "code",
   "execution_count": 75,
   "metadata": {},
   "outputs": [],
   "source": [
    "BASE_FEATURE_NAMES.remove('Months since last delinquent') # удаляем "
   ]
  },
  {
   "cell_type": "code",
   "execution_count": 76,
   "metadata": {},
   "outputs": [],
   "source": [
    "BASE_FEATURE_NAMES.remove('Bankruptcies') # удаляем"
   ]
  },
  {
   "cell_type": "code",
   "execution_count": 77,
   "metadata": {},
   "outputs": [
    {
     "data": {
      "text/plain": [
       "['Number of Credit Problems',\n",
       " 'Tax Liens',\n",
       " 'bin high Credit Score',\n",
       " 'bin isflyer Current Loan Amount',\n",
       " 'bin no Current Credit Balance',\n",
       " 'bin nomore Open Credit',\n",
       " 'log Annual Income',\n",
       " 'log Current Credit Balance',\n",
       " 'log Maximum Open Credit',\n",
       " 'sqr Credit Score',\n",
       " 'sqr Current Loan Amount',\n",
       " 'sqr Monthly Debt',\n",
       " 'sqr Number of Open Accounts',\n",
       " 'sqr Years of Credit History',\n",
       " 'int Years in current job',\n",
       " 'flt Home Ownership',\n",
       " 'bin Term',\n",
       " 'flt Purpose']"
      ]
     },
     "execution_count": 77,
     "metadata": {},
     "output_type": "execute_result"
    }
   ],
   "source": [
    "BASE_FEATURE_NAMES"
   ]
  },
  {
   "cell_type": "markdown",
   "metadata": {
    "colab": {},
    "colab_type": "code",
    "id": "oZ5r1ix69nnN"
   },
   "source": [
    "## Корреляции независимых переменных"
   ]
  },
  {
   "cell_type": "code",
   "execution_count": 78,
   "metadata": {
    "colab": {
     "base_uri": "https://localhost:8080/",
     "height": 868
    },
    "colab_type": "code",
    "id": "OcU2OujLB2Zn",
    "outputId": "c151b6b0-0936-4125-90fe-5e931dc0d35b"
   },
   "outputs": [
    {
     "data": {
      "image/png": "[encoded data removed]",
      "text/plain": [
       "<Figure size 1080x864 with 2 Axes>"
      ]
     },
     "metadata": {
      "needs_background": "light"
     },
     "output_type": "display_data"
    }
   ],
   "source": [
    "plt.figure(figsize = (15,12))\n",
    "\n",
    "sns.set(font_scale=1)\n",
    "sns.heatmap(df[BASE_FEATURE_NAMES].corr().round(3), annot=True, linewidths=.5, cmap='GnBu')\n",
    "\n",
    "plt.title('Correlation matrix')\n",
    "plt.show()"
   ]
  },
  {
   "cell_type": "code",
   "execution_count": null,
   "metadata": {},
   "outputs": [],
   "source": []
  },
  {
   "cell_type": "code",
   "execution_count": 79,
   "metadata": {},
   "outputs": [],
   "source": [
    "from sklearn.model_selection import train_test_split, ShuffleSplit, cross_val_score, learning_curve\n",
    "from sklearn.linear_model import LogisticRegression\n",
    "from sklearn.metrics import classification_report, f1_score, precision_score, recall_score, roc_auc_score as auc, SCORERS\n",
    "from sklearn.preprocessing import StandardScaler, PolynomialFeatures"
   ]
  },
  {
   "cell_type": "markdown",
   "metadata": {},
   "source": [
    "## Baseline"
   ]
  },
  {
   "cell_type": "code",
   "execution_count": 112,
   "metadata": {},
   "outputs": [
    {
     "data": {
      "text/html": [
       "<div>\n",
       "<style scoped>\n",
       "    .dataframe tbody tr th:only-of-type {\n",
       "        vertical-align: middle;\n",
       "    }\n",
       "\n",
       "    .dataframe tbody tr th {\n",
       "        vertical-align: top;\n",
       "    }\n",
       "\n",
       "    .dataframe thead th {\n",
       "        text-align: right;\n",
       "    }\n",
       "</style>\n",
       "<table border=\"1\" class=\"dataframe\">\n",
       "  <thead>\n",
       "    <tr style=\"text-align: right;\">\n",
       "      <th></th>\n",
       "      <th>Number of Credit Problems</th>\n",
       "      <th>Tax Liens</th>\n",
       "      <th>bin high Credit Score</th>\n",
       "      <th>bin isflyer Current Loan Amount</th>\n",
       "      <th>bin no Current Credit Balance</th>\n",
       "      <th>bin nomore Open Credit</th>\n",
       "      <th>log Annual Income</th>\n",
       "      <th>log Current Credit Balance</th>\n",
       "      <th>log Maximum Open Credit</th>\n",
       "      <th>sqr Credit Score</th>\n",
       "      <th>sqr Current Loan Amount</th>\n",
       "      <th>sqr Monthly Debt</th>\n",
       "      <th>sqr Number of Open Accounts</th>\n",
       "      <th>sqr Years of Credit History</th>\n",
       "      <th>int Years in current job</th>\n",
       "      <th>flt Home Ownership</th>\n",
       "      <th>bin Term</th>\n",
       "      <th>flt Purpose</th>\n",
       "    </tr>\n",
       "  </thead>\n",
       "  <tbody>\n",
       "    <tr>\n",
       "      <th>count</th>\n",
       "      <td>2500.000000</td>\n",
       "      <td>2500.000000</td>\n",
       "      <td>2500.000000</td>\n",
       "      <td>2500.000000</td>\n",
       "      <td>2500.0000</td>\n",
       "      <td>2500.000000</td>\n",
       "      <td>2500.000000</td>\n",
       "      <td>2500.000000</td>\n",
       "      <td>2500.000000</td>\n",
       "      <td>2500.000000</td>\n",
       "      <td>2500.000000</td>\n",
       "      <td>2500.000000</td>\n",
       "      <td>2500.000000</td>\n",
       "      <td>2500.000000</td>\n",
       "      <td>2500.000000</td>\n",
       "      <td>2500.000000</td>\n",
       "      <td>2500.000000</td>\n",
       "      <td>2500.000000</td>\n",
       "    </tr>\n",
       "    <tr>\n",
       "      <th>mean</th>\n",
       "      <td>-0.016046</td>\n",
       "      <td>0.018656</td>\n",
       "      <td>0.064000</td>\n",
       "      <td>0.118800</td>\n",
       "      <td>0.0044</td>\n",
       "      <td>0.005600</td>\n",
       "      <td>0.005526</td>\n",
       "      <td>0.003818</td>\n",
       "      <td>0.029485</td>\n",
       "      <td>-0.019244</td>\n",
       "      <td>0.005581</td>\n",
       "      <td>-0.004752</td>\n",
       "      <td>0.014096</td>\n",
       "      <td>-0.004879</td>\n",
       "      <td>0.041502</td>\n",
       "      <td>0.279216</td>\n",
       "      <td>0.255600</td>\n",
       "      <td>0.282124</td>\n",
       "    </tr>\n",
       "    <tr>\n",
       "      <th>std</th>\n",
       "      <td>1.123012</td>\n",
       "      <td>1.422355</td>\n",
       "      <td>0.244802</td>\n",
       "      <td>0.323618</td>\n",
       "      <td>0.0662</td>\n",
       "      <td>0.074638</td>\n",
       "      <td>0.995800</td>\n",
       "      <td>0.933772</td>\n",
       "      <td>0.881251</td>\n",
       "      <td>1.009924</td>\n",
       "      <td>1.012757</td>\n",
       "      <td>1.002610</td>\n",
       "      <td>0.988122</td>\n",
       "      <td>1.032148</td>\n",
       "      <td>0.995192</td>\n",
       "      <td>0.029690</td>\n",
       "      <td>0.436285</td>\n",
       "      <td>0.022807</td>\n",
       "    </tr>\n",
       "    <tr>\n",
       "      <th>min</th>\n",
       "      <td>-0.340979</td>\n",
       "      <td>-0.110953</td>\n",
       "      <td>0.000000</td>\n",
       "      <td>0.000000</td>\n",
       "      <td>0.0000</td>\n",
       "      <td>0.000000</td>\n",
       "      <td>-1.947172</td>\n",
       "      <td>-8.284222</td>\n",
       "      <td>-8.906431</td>\n",
       "      <td>-1.681748</td>\n",
       "      <td>-2.041319</td>\n",
       "      <td>-2.798779</td>\n",
       "      <td>-3.163435</td>\n",
       "      <td>-2.803167</td>\n",
       "      <td>-1.489549</td>\n",
       "      <td>0.170000</td>\n",
       "      <td>0.000000</td>\n",
       "      <td>0.100000</td>\n",
       "    </tr>\n",
       "    <tr>\n",
       "      <th>25%</th>\n",
       "      <td>-0.340979</td>\n",
       "      <td>-0.110953</td>\n",
       "      <td>0.000000</td>\n",
       "      <td>0.000000</td>\n",
       "      <td>0.0000</td>\n",
       "      <td>0.000000</td>\n",
       "      <td>0.368630</td>\n",
       "      <td>-0.318030</td>\n",
       "      <td>-0.277810</td>\n",
       "      <td>-1.681748</td>\n",
       "      <td>-0.506548</td>\n",
       "      <td>-0.668115</td>\n",
       "      <td>-0.602948</td>\n",
       "      <td>-0.684538</td>\n",
       "      <td>-0.956565</td>\n",
       "      <td>0.250000</td>\n",
       "      <td>0.000000</td>\n",
       "      <td>0.280000</td>\n",
       "    </tr>\n",
       "    <tr>\n",
       "      <th>50%</th>\n",
       "      <td>-0.340979</td>\n",
       "      <td>-0.110953</td>\n",
       "      <td>0.000000</td>\n",
       "      <td>0.000000</td>\n",
       "      <td>0.0000</td>\n",
       "      <td>0.000000</td>\n",
       "      <td>0.479611</td>\n",
       "      <td>0.116369</td>\n",
       "      <td>0.093981</td>\n",
       "      <td>0.585160</td>\n",
       "      <td>0.163889</td>\n",
       "      <td>0.012014</td>\n",
       "      <td>-0.135431</td>\n",
       "      <td>-0.103271</td>\n",
       "      <td>0.109404</td>\n",
       "      <td>0.300000</td>\n",
       "      <td>0.000000</td>\n",
       "      <td>0.280000</td>\n",
       "    </tr>\n",
       "    <tr>\n",
       "      <th>75%</th>\n",
       "      <td>-0.340979</td>\n",
       "      <td>-0.110953</td>\n",
       "      <td>0.000000</td>\n",
       "      <td>0.000000</td>\n",
       "      <td>0.0000</td>\n",
       "      <td>0.000000</td>\n",
       "      <td>0.550138</td>\n",
       "      <td>0.506817</td>\n",
       "      <td>0.444929</td>\n",
       "      <td>0.619771</td>\n",
       "      <td>0.705463</td>\n",
       "      <td>0.633317</td>\n",
       "      <td>0.675919</td>\n",
       "      <td>0.623095</td>\n",
       "      <td>1.175372</td>\n",
       "      <td>0.310000</td>\n",
       "      <td>1.000000</td>\n",
       "      <td>0.280000</td>\n",
       "    </tr>\n",
       "    <tr>\n",
       "      <th>max</th>\n",
       "      <td>29.745393</td>\n",
       "      <td>55.120285</td>\n",
       "      <td>1.000000</td>\n",
       "      <td>1.000000</td>\n",
       "      <td>1.0000</td>\n",
       "      <td>1.000000</td>\n",
       "      <td>0.955743</td>\n",
       "      <td>2.428795</td>\n",
       "      <td>1.973914</td>\n",
       "      <td>0.641528</td>\n",
       "      <td>1.822003</td>\n",
       "      <td>4.176835</td>\n",
       "      <td>5.138284</td>\n",
       "      <td>3.898852</td>\n",
       "      <td>1.175372</td>\n",
       "      <td>0.310000</td>\n",
       "      <td>1.000000</td>\n",
       "      <td>0.540000</td>\n",
       "    </tr>\n",
       "  </tbody>\n",
       "</table>\n",
       "</div>"
      ],
      "text/plain": [
       "       Number of Credit Problems    Tax Liens  bin high Credit Score  \\\n",
       "count                2500.000000  2500.000000            2500.000000   \n",
       "mean                   -0.016046     0.018656               0.064000   \n",
       "std                     1.123012     1.422355               0.244802   \n",
       "min                    -0.340979    -0.110953               0.000000   \n",
       "25%                    -0.340979    -0.110953               0.000000   \n",
       "50%                    -0.340979    -0.110953               0.000000   \n",
       "75%                    -0.340979    -0.110953               0.000000   \n",
       "max                    29.745393    55.120285               1.000000   \n",
       "\n",
       "       bin isflyer Current Loan Amount  bin no Current Credit Balance  \\\n",
       "count                      2500.000000                      2500.0000   \n",
       "mean                          0.118800                         0.0044   \n",
       "std                           0.323618                         0.0662   \n",
       "min                           0.000000                         0.0000   \n",
       "25%                           0.000000                         0.0000   \n",
       "50%                           0.000000                         0.0000   \n",
       "75%                           0.000000                         0.0000   \n",
       "max                           1.000000                         1.0000   \n",
       "\n",
       "       bin nomore Open Credit  log Annual Income  log Current Credit Balance  \\\n",
       "count             2500.000000        2500.000000                 2500.000000   \n",
       "mean                 0.005600           0.005526                    0.003818   \n",
       "std                  0.074638           0.995800                    0.933772   \n",
       "min                  0.000000          -1.947172                   -8.284222   \n",
       "25%                  0.000000           0.368630                   -0.318030   \n",
       "50%                  0.000000           0.479611                    0.116369   \n",
       "75%                  0.000000           0.550138                    0.506817   \n",
       "max                  1.000000           0.955743                    2.428795   \n",
       "\n",
       "       log Maximum Open Credit  sqr Credit Score  sqr Current Loan Amount  \\\n",
       "count              2500.000000       2500.000000              2500.000000   \n",
       "mean                  0.029485         -0.019244                 0.005581   \n",
       "std                   0.881251          1.009924                 1.012757   \n",
       "min                  -8.906431         -1.681748                -2.041319   \n",
       "25%                  -0.277810         -1.681748                -0.506548   \n",
       "50%                   0.093981          0.585160                 0.163889   \n",
       "75%                   0.444929          0.619771                 0.705463   \n",
       "max                   1.973914          0.641528                 1.822003   \n",
       "\n",
       "       sqr Monthly Debt  sqr Number of Open Accounts  \\\n",
       "count       2500.000000                  2500.000000   \n",
       "mean          -0.004752                     0.014096   \n",
       "std            1.002610                     0.988122   \n",
       "min           -2.798779                    -3.163435   \n",
       "25%           -0.668115                    -0.602948   \n",
       "50%            0.012014                    -0.135431   \n",
       "75%            0.633317                     0.675919   \n",
       "max            4.176835                     5.138284   \n",
       "\n",
       "       sqr Years of Credit History  int Years in current job  \\\n",
       "count                  2500.000000               2500.000000   \n",
       "mean                     -0.004879                  0.041502   \n",
       "std                       1.032148                  0.995192   \n",
       "min                      -2.803167                 -1.489549   \n",
       "25%                      -0.684538                 -0.956565   \n",
       "50%                      -0.103271                  0.109404   \n",
       "75%                       0.623095                  1.175372   \n",
       "max                       3.898852                  1.175372   \n",
       "\n",
       "       flt Home Ownership     bin Term  flt Purpose  \n",
       "count         2500.000000  2500.000000  2500.000000  \n",
       "mean             0.279216     0.255600     0.282124  \n",
       "std              0.029690     0.436285     0.022807  \n",
       "min              0.170000     0.000000     0.100000  \n",
       "25%              0.250000     0.000000     0.280000  \n",
       "50%              0.300000     0.000000     0.280000  \n",
       "75%              0.310000     1.000000     0.280000  \n",
       "max              0.310000     1.000000     0.540000  "
      ]
     },
     "execution_count": 112,
     "metadata": {},
     "output_type": "execute_result"
    }
   ],
   "source": [
    "df11tst[BASE_FEATURE_NAMES].describe()"
   ]
  },
  {
   "cell_type": "code",
   "execution_count": 83,
   "metadata": {},
   "outputs": [],
   "source": [
    "feats = BASE_FEATURE_NAMES.copy()\n"
   ]
  },
  {
   "cell_type": "code",
   "execution_count": 101,
   "metadata": {},
   "outputs": [
    {
     "data": {
      "text/plain": [
       "['Number of Credit Problems',\n",
       " 'Tax Liens',\n",
       " 'log Annual Income',\n",
       " 'log Current Credit Balance',\n",
       " 'log Maximum Open Credit',\n",
       " 'sqr Credit Score',\n",
       " 'sqr Current Loan Amount',\n",
       " 'sqr Monthly Debt',\n",
       " 'sqr Number of Open Accounts',\n",
       " 'sqr Years of Credit History',\n",
       " 'int Years in current job']"
      ]
     },
     "execution_count": 101,
     "metadata": {},
     "output_type": "execute_result"
    }
   ],
   "source": [
    "feats_std = [x for x in feats if x[:3]!='bin']\n",
    "feats_std = [x for x in feats_std if x[:3]!='flt']\n",
    "feats_std"
   ]
  },
  {
   "cell_type": "code",
   "execution_count": 102,
   "metadata": {},
   "outputs": [],
   "source": [
    "scaler = StandardScaler()"
   ]
  },
  {
   "cell_type": "code",
   "execution_count": 103,
   "metadata": {},
   "outputs": [],
   "source": [
    "poly = PolynomialFeatures(2)\n"
   ]
  },
  {
   "cell_type": "code",
   "execution_count": 104,
   "metadata": {},
   "outputs": [],
   "source": [
    "df11=df.copy()\n",
    "df11tst=dftst.copy()"
   ]
  },
  {
   "cell_type": "code",
   "execution_count": 105,
   "metadata": {},
   "outputs": [],
   "source": [
    "df11[feats_std] = scaler.fit_transform(df11[feats_std].fillna(0))\n",
    "df11tst[feats_std] = scaler.transform(df11tst[feats_std].fillna(0))"
   ]
  },
  {
   "cell_type": "code",
   "execution_count": 106,
   "metadata": {},
   "outputs": [],
   "source": [
    "\n",
    "nd = np.hstack([poly.fit_transform(df11[feats]),np.array(df[TARGET_NAME]).reshape(-1, 1)])\n",
    "train, valid = train_test_split(nd, \\\n",
    "                                test_size=0.3, random_state=3, stratify=df[TARGET_NAME])"
   ]
  },
  {
   "cell_type": "code",
   "execution_count": 107,
   "metadata": {},
   "outputs": [],
   "source": [
    "ndtst = poly.fit_transform(df11tst[feats])"
   ]
  },
  {
   "cell_type": "code",
   "execution_count": 90,
   "metadata": {},
   "outputs": [
    {
     "data": {
      "text/plain": [
       "2.7720807011639415"
      ]
     },
     "execution_count": 90,
     "metadata": {},
     "output_type": "execute_result"
    }
   ],
   "source": [
    "nd.std()"
   ]
  },
  {
   "cell_type": "code",
   "execution_count": null,
   "metadata": {},
   "outputs": [],
   "source": []
  },
  {
   "cell_type": "code",
   "execution_count": 91,
   "metadata": {},
   "outputs": [],
   "source": [
    "def eval_model(trn, tst, feats, trsh, model):\n",
    "    # Оценка метрик модели \n",
    "    \n",
    "    model.fit(trn[:, :-1], trn[:, -1])\n",
    "    \n",
    "    pred_trn_p = model.predict_proba(trn[:, :-1]).T[1]\n",
    "    pred_trn = (model.predict_proba(trn[:, :-1]).T[1] > trsh).astype('int')\n",
    "    auc_trn = auc(trn[:, -1], pred_trn_p)\n",
    "    f1_trn =  f1_score(trn[:, -1], pred_trn)\n",
    "    \n",
    "    pred_tst_p = model.predict_proba(tst[:, :-1]).T[1]\n",
    "    pred_tst = (model.predict_proba(tst[:, :-1]).T[1] > trsh).astype('int')\n",
    "    auc_tst = auc(tst[:, -1], pred_tst_p)\n",
    "    f1_tst =  f1_score(tst[:, -1], pred_tst)\n",
    "    \n",
    "    return auc_trn, auc_tst, f1_trn, f1_tst, model "
   ]
  },
  {
   "cell_type": "code",
   "execution_count": 108,
   "metadata": {},
   "outputs": [
    {
     "data": {
      "text/plain": [
       "(0.794918122700392, 0.7852049301933348, 0.5771773498131647, 0.5693811074918567)"
      ]
     },
     "execution_count": 108,
     "metadata": {},
     "output_type": "execute_result"
    }
   ],
   "source": [
    "lr_model  = LogisticRegression(random_state=0, solver='liblinear')\n",
    "treshld = 0.285\n",
    "auc_trn, auc_tst, f1_trn, f1_tst, rf = eval_model(train, valid, feats, treshld, lr_model)\n",
    "auc_trn, auc_tst, f1_trn, f1_tst"
   ]
  },
  {
   "cell_type": "code",
   "execution_count": 109,
   "metadata": {},
   "outputs": [],
   "source": [
    "pred_test = (lr_model.predict_proba(ndtst[:, :]).T[1] > treshld).astype('int')\n"
   ]
  },
  {
   "cell_type": "code",
   "execution_count": 110,
   "metadata": {},
   "outputs": [],
   "source": [
    "df11tst['Id'] = np.array(range(7500, 10000))\n",
    "df11tst['Credit Default'] = pred_test"
   ]
  },
  {
   "cell_type": "code",
   "execution_count": 111,
   "metadata": {},
   "outputs": [],
   "source": [
    "df11tst.loc[:, ['Id', 'Credit Default']].to_csv('submission.csv', index=None)"
   ]
  },
  {
   "cell_type": "code",
   "execution_count": null,
   "metadata": {},
   "outputs": [],
   "source": []
  },
  {
   "cell_type": "markdown",
   "metadata": {},
   "source": [
    "## Байес"
   ]
  },
  {
   "cell_type": "code",
   "execution_count": 230,
   "metadata": {},
   "outputs": [],
   "source": [
    "from sklearn import metrics\n",
    "from sklearn.naive_bayes import GaussianNB\n",
    "nb_model = GaussianNB()\n",
    "\n"
   ]
  },
  {
   "cell_type": "code",
   "execution_count": 412,
   "metadata": {},
   "outputs": [
    {
     "data": {
      "text/plain": [
       "(0.7190216643904794,\n",
       " 0.7425937783052753,\n",
       " 0.43489813994685567,\n",
       " 0.49462365591397844)"
      ]
     },
     "execution_count": 412,
     "metadata": {},
     "output_type": "execute_result"
    }
   ],
   "source": [
    "auc_trn, auc_tst, f1_trn, f1_tst, rf = eval_model(train, valid, feats, 0.5, nb_model)\n",
    "auc_trn, auc_tst, f1_trn, f1_tst"
   ]
  },
  {
   "cell_type": "code",
   "execution_count": null,
   "metadata": {},
   "outputs": [],
   "source": []
  },
  {
   "cell_type": "code",
   "execution_count": null,
   "metadata": {},
   "outputs": [],
   "source": []
  },
  {
   "cell_type": "markdown",
   "metadata": {},
   "source": [
    "## CatBoost"
   ]
  },
  {
   "cell_type": "code",
   "execution_count": 245,
   "metadata": {},
   "outputs": [],
   "source": [
    "feats = BASE_FEATURE_NAMES.copy()"
   ]
  },
  {
   "cell_type": "code",
   "execution_count": 62,
   "metadata": {},
   "outputs": [],
   "source": [
    "\n",
    "feats.remove('Years in current job')"
   ]
  },
  {
   "cell_type": "code",
   "execution_count": 246,
   "metadata": {},
   "outputs": [],
   "source": [
    "import catboost as catb\n",
    "from sklearn.model_selection import KFold, GridSearchCV, RandomizedSearchCV"
   ]
  },
  {
   "cell_type": "code",
   "execution_count": 247,
   "metadata": {},
   "outputs": [],
   "source": [
    "train, valid = train_test_split(df, test_size=0.3, random_state=70, stratify=df[TARGET_NAME])"
   ]
  },
  {
   "cell_type": "code",
   "execution_count": 255,
   "metadata": {},
   "outputs": [],
   "source": [
    "\n",
    "catb_model = catb.CatBoostClassifier(#n_estimators=80, max_depth=4, \n",
    "                                      #l2_leaf_reg=99, bagging_temperature=0,\n",
    "                                     #learning_rate =0.15,\n",
    "                                     # boosting_type='Ordered', \n",
    "                                      #max_depth=5,\n",
    "                                      class_weights=[1, 3.3],\n",
    "                                      silent=True, random_state=70\n",
    "                                    )"
   ]
  },
  {
   "cell_type": "code",
   "execution_count": 304,
   "metadata": {},
   "outputs": [],
   "source": [
    "cv = KFold(n_splits=5, random_state=21, shuffle=True)"
   ]
  },
  {
   "cell_type": "code",
   "execution_count": 408,
   "metadata": {},
   "outputs": [],
   "source": [
    "X, y = nd[:,:-1], nd[:,-1]"
   ]
  },
  {
   "cell_type": "code",
   "execution_count": 102,
   "metadata": {},
   "outputs": [],
   "source": [
    "params = {'max_depth':[3, 4, 5],\n",
    "          'n_estimators': [ 75, 80, 85],\n",
    "          #'l2_leaf_reg':[25,75,200],\n",
    "          'learning_rate': [0.12, 0.15, 0.17]}"
   ]
  },
  {
   "cell_type": "code",
   "execution_count": 307,
   "metadata": {},
   "outputs": [],
   "source": [
    "\n",
    "rs = RandomizedSearchCV(lr_model, {}, scoring='roc_auc', cv=cv, n_jobs=1, random_state=70)\n"
   ]
  },
  {
   "cell_type": "code",
   "execution_count": null,
   "metadata": {},
   "outputs": [],
   "source": []
  },
  {
   "cell_type": "code",
   "execution_count": 409,
   "metadata": {},
   "outputs": [
    {
     "name": "stdout",
     "output_type": "stream",
     "text": [
      "Wall time: 17 s\n"
     ]
    },
    {
     "data": {
      "text/plain": [
       "RandomizedSearchCV(cv=KFold(n_splits=5, random_state=21, shuffle=True),\n",
       "                   error_score='raise-deprecating',\n",
       "                   estimator=LogisticRegression(C=1.0, class_weight=None,\n",
       "                                                dual=False, fit_intercept=True,\n",
       "                                                intercept_scaling=1,\n",
       "                                                l1_ratio=None, max_iter=100,\n",
       "                                                multi_class='warn', n_jobs=None,\n",
       "                                                penalty='l2', random_state=0,\n",
       "                                                solver='liblinear', tol=0.0001,\n",
       "                                                verbose=0, warm_start=False),\n",
       "                   iid='warn', n_iter=10, n_jobs=1, param_distributions={},\n",
       "                   pre_dispatch='2*n_jobs', random_state=70, refit=True,\n",
       "                   return_train_score=False, scoring='roc_auc', verbose=0)"
      ]
     },
     "execution_count": 409,
     "metadata": {},
     "output_type": "execute_result"
    }
   ],
   "source": [
    "%%time\n",
    "rs.fit(X, y)"
   ]
  },
  {
   "cell_type": "code",
   "execution_count": 410,
   "metadata": {},
   "outputs": [
    {
     "data": {
      "text/plain": [
       "({}, 0.772730964338369)"
      ]
     },
     "execution_count": 410,
     "metadata": {},
     "output_type": "execute_result"
    }
   ],
   "source": [
    "rs.best_params_, rs.best_score_"
   ]
  },
  {
   "cell_type": "code",
   "execution_count": 220,
   "metadata": {},
   "outputs": [],
   "source": [
    "train, valid = train_test_split(df, test_size=0.3, random_state=70, stratify=df[TARGET_NAME])"
   ]
  },
  {
   "cell_type": "code",
   "execution_count": 218,
   "metadata": {},
   "outputs": [],
   "source": [
    "#sorted(SCORERS.keys())"
   ]
  },
  {
   "cell_type": "code",
   "execution_count": 256,
   "metadata": {},
   "outputs": [
    {
     "data": {
      "text/plain": [
       "(0.9769966125240684, 0.7489361120654652, 0.86210102262163, 0.5090634441087613)"
      ]
     },
     "execution_count": 256,
     "metadata": {},
     "output_type": "execute_result"
    }
   ],
   "source": [
    "auc_trn, auc_tst, f1_trn, f1_tst, rf = eval_model(train, valid, feats, 0.56, catb_model)\n",
    "auc_trn, auc_tst, f1_trn, f1_tst"
   ]
  },
  {
   "cell_type": "code",
   "execution_count": 242,
   "metadata": {},
   "outputs": [
    {
     "data": {
      "text/plain": [
       "['Number of Credit Problems',\n",
       " 'Tax Liens',\n",
       " 'bin high Credit Score',\n",
       " 'bin isflyer Current Loan Amount',\n",
       " 'bin no Current Credit Balance',\n",
       " 'bin nomore Open Credit',\n",
       " 'log Annual Income',\n",
       " 'log Current Credit Balance',\n",
       " 'log Maximum Open Credit',\n",
       " 'sqr Credit Score',\n",
       " 'sqr Current Loan Amount',\n",
       " 'sqr Monthly Debt',\n",
       " 'sqr Number of Open Accounts',\n",
       " 'sqr Years of Credit History',\n",
       " 'int Years in current job',\n",
       " 'flt Home Ownership',\n",
       " 'bin Term',\n",
       " 'flt Purpose']"
      ]
     },
     "execution_count": 242,
     "metadata": {},
     "output_type": "execute_result"
    }
   ],
   "source": [
    "feats"
   ]
  },
  {
   "cell_type": "markdown",
   "metadata": {},
   "source": [
    "## XGBoost"
   ]
  },
  {
   "cell_type": "code",
   "execution_count": 258,
   "metadata": {},
   "outputs": [],
   "source": [
    "import xgboost as xgb"
   ]
  },
  {
   "cell_type": "code",
   "execution_count": 463,
   "metadata": {},
   "outputs": [],
   "source": [
    "train, valid = train_test_split(df, test_size=0.3, random_state=70, stratify=df[TARGET_NAME])"
   ]
  },
  {
   "cell_type": "code",
   "execution_count": 637,
   "metadata": {},
   "outputs": [],
   "source": [
    "feats = feats = BASE_FEATURE_NAMES.copy()\n",
    "feats.remove('Home Ownership')\n",
    "feats.remove('Purpose')\n",
    "feats.remove('Term')\n",
    "feats.remove('Years in current job')"
   ]
  },
  {
   "cell_type": "code",
   "execution_count": 259,
   "metadata": {},
   "outputs": [],
   "source": [
    "xgb_model = xgb.XGBClassifier(max_depth=3, min_child_weight=7, colsample_bytree=0.27)"
   ]
  },
  {
   "cell_type": "code",
   "execution_count": 260,
   "metadata": {},
   "outputs": [
    {
     "data": {
      "text/plain": [
       "(0.8264605744454897, 0.7590889215104476, 0.584622489032556, 0.5270988310308183)"
      ]
     },
     "execution_count": 260,
     "metadata": {},
     "output_type": "execute_result"
    }
   ],
   "source": [
    "auc_trn, auc_tst, f1_trn, f1_tst, rf = eval_model(train, valid, feats, 0.24, xgb_model)\n",
    "auc_trn, auc_tst, f1_trn, f1_tst"
   ]
  },
  {
   "cell_type": "code",
   "execution_count": null,
   "metadata": {},
   "outputs": [],
   "source": [
    "\n"
   ]
  },
  {
   "cell_type": "code",
   "execution_count": null,
   "metadata": {},
   "outputs": [],
   "source": []
  },
  {
   "cell_type": "markdown",
   "metadata": {},
   "source": [
    "## LightGBM"
   ]
  },
  {
   "cell_type": "code",
   "execution_count": 152,
   "metadata": {},
   "outputs": [],
   "source": [
    "import lightgbm as lgbm"
   ]
  },
  {
   "cell_type": "code",
   "execution_count": null,
   "metadata": {},
   "outputs": [],
   "source": [
    "train, valid = train_test_split(df, test_size=0.3, random_state=70, stratify=df[TARGET_NAME])"
   ]
  },
  {
   "cell_type": "code",
   "execution_count": null,
   "metadata": {},
   "outputs": [],
   "source": []
  },
  {
   "cell_type": "code",
   "execution_count": 153,
   "metadata": {},
   "outputs": [],
   "source": [
    "lgbm_model = lgbm.LGBMClassifier()"
   ]
  },
  {
   "cell_type": "code",
   "execution_count": 162,
   "metadata": {},
   "outputs": [
    {
     "data": {
      "text/plain": [
       "(0.9847010448945899,\n",
       " 0.7478136614923322,\n",
       " 0.8744615384615385,\n",
       " 0.5303140978816654)"
      ]
     },
     "execution_count": 162,
     "metadata": {},
     "output_type": "execute_result"
    }
   ],
   "source": [
    "auc_trn, auc_tst, f1_trn, f1_tst, rf = eval_model(train, valid, feats, 0.3, lgbm_model)\n",
    "auc_trn, auc_tst, f1_trn, f1_tst"
   ]
  },
  {
   "cell_type": "code",
   "execution_count": null,
   "metadata": {},
   "outputs": [],
   "source": []
  },
  {
   "cell_type": "markdown",
   "metadata": {},
   "source": [
    "## Random Forest"
   ]
  },
  {
   "cell_type": "code",
   "execution_count": 163,
   "metadata": {},
   "outputs": [],
   "source": [
    "from sklearn.ensemble import RandomForestClassifier as RF"
   ]
  },
  {
   "cell_type": "code",
   "execution_count": 660,
   "metadata": {},
   "outputs": [],
   "source": [
    "train, valid = train_test_split(df, test_size=0.3, random_state=70, stratify=df[TARGET_NAME])\n"
   ]
  },
  {
   "cell_type": "code",
   "execution_count": 670,
   "metadata": {},
   "outputs": [],
   "source": [
    "\n"
   ]
  },
  {
   "cell_type": "code",
   "execution_count": 164,
   "metadata": {},
   "outputs": [],
   "source": [
    "n_est=20\n",
    "mx_d=13\n",
    "rnd_st=70\n",
    "rf_model = RF(n_estimators=n_est, max_depth=mx_d, random_state=rnd_st)\n"
   ]
  },
  {
   "cell_type": "code",
   "execution_count": 170,
   "metadata": {},
   "outputs": [
    {
     "data": {
      "text/plain": [
       "(0.9837079136192741,\n",
       " 0.7392996298841241,\n",
       " 0.7736389684813754,\n",
       " 0.4343991179713341)"
      ]
     },
     "execution_count": 170,
     "metadata": {},
     "output_type": "execute_result"
    }
   ],
   "source": [
    "\n",
    "auc_trn, auc_tst, f1_trn, f1_tst, rf = eval_model(train, valid, feats, 0.5, rf_model)\n",
    "auc_trn, auc_tst, f1_trn, f1_tst"
   ]
  },
  {
   "cell_type": "code",
   "execution_count": 173,
   "metadata": {},
   "outputs": [
    {
     "name": "stdout",
     "output_type": "stream",
     "text": [
      "LogisticRegression(C=1.0, class_weight=None, dual=False, fit_intercept=True,\n",
      "                   intercept_scaling=1, l1_ratio=None, max_iter=100,\n",
      "                   multi_class='warn', n_jobs=None, penalty='l2',\n",
      "                   random_state=0, solver='liblinear', tol=0.0001, verbose=0,\n",
      "                   warm_start=False)\n"
     ]
    }
   ],
   "source": [
    "print(model)"
   ]
  },
  {
   "cell_type": "code",
   "execution_count": 185,
   "metadata": {},
   "outputs": [
    {
     "name": "stdout",
     "output_type": "stream",
     "text": [
      "best_feat: Number of Credit Problems  f1: 0.5126417215854078\n",
      "best_feat: bin high Credit Score  f1: 0.5962145110410094\n",
      "best_feat: sqr Credit Score  f1: 0.6931776478120999\n",
      "0.6931776478120999 ['sqr Credit Score']\n",
      "--------------- 1 ---------------\n",
      "best_feat: Tax Liens  f1: 0.6938330613424118\n",
      "best_feat: bin high Credit Score  f1: 0.7108606365368397\n",
      "best_feat: bin isflyer Current Loan Amount  f1: 0.7187826974732174\n",
      "0.7187826974732174 ['sqr Credit Score', 'bin isflyer Current Loan Amount']\n",
      "--------------- 2 ---------------\n",
      "best_feat: Tax Liens  f1: 0.71914188165662\n",
      "best_feat: bin high Credit Score  f1: 0.7364656861979573\n",
      "0.7364656861979573 ['sqr Credit Score', 'bin isflyer Current Loan Amount', 'bin high Credit Score']\n",
      "--------------- 3 ---------------\n",
      "best_feat: bin no Current Credit Balance  f1: 0.7372631141268701\n",
      "best_feat: bin nomore Open Credit  f1: 0.7378653332604554\n",
      "best_feat: int Term  f1: 0.7496813216416278\n",
      "0.7496813216416278 ['sqr Credit Score', 'bin isflyer Current Loan Amount', 'bin high Credit Score', 'int Term']\n",
      "--------------- 4 ---------------\n",
      "best_feat: Tax Liens  f1: 0.7499209404378925\n",
      "best_feat: bin no Current Credit Balance  f1: 0.7499638863728644\n",
      "best_feat: bin nomore Open Credit  f1: 0.7503679685791923\n",
      "0.7503679685791923 ['sqr Credit Score', 'bin isflyer Current Loan Amount', 'bin high Credit Score', 'int Term', 'bin nomore Open Credit']\n",
      "--------------- 5 ---------------\n",
      "best_feat: Tax Liens  f1: 0.7506188118811882\n",
      "0.7506188118811882 ['sqr Credit Score', 'bin isflyer Current Loan Amount', 'bin high Credit Score', 'int Term', 'bin nomore Open Credit', 'Tax Liens']\n",
      "--------------- 6 ---------------\n"
     ]
    },
    {
     "data": {
      "text/plain": [
       "(['sqr Credit Score',\n",
       "  'bin isflyer Current Loan Amount',\n",
       "  'bin high Credit Score',\n",
       "  'int Term',\n",
       "  'bin nomore Open Credit',\n",
       "  'Tax Liens'],\n",
       " 0.7506188118811882)"
      ]
     },
     "execution_count": 185,
     "metadata": {},
     "output_type": "execute_result"
    }
   ],
   "source": [
    "feats = BASE_FEATURE_NAMES.copy()\n",
    "\n",
    "sfeat = []\n",
    "\n",
    "aucv=0\n",
    "feat_count=0\n",
    "while feats and feat_count<20:\n",
    "    best_feat = ''\n",
    "    for i, feat in enumerate(feats):\n",
    "        featstst = sfeat + [feat]\n",
    "\n",
    "        auc_trn, auc_tst, f1_trn, f1_tst, rf = eval_model(train, valid, featstst, 0.27, model)\n",
    "\n",
    "        if auc_tst > aucv:\n",
    "            aucv = auc_tst\n",
    "            best_feat = feat\n",
    "            ind = i\n",
    "            print('best_feat:', best_feat, ' f1:', aucv)\n",
    "\n",
    "    if best_feat:\n",
    "        sfeat += [best_feat]\n",
    "    else:\n",
    "        break\n",
    "    feats = feats[:ind] + feats[ind+1 :]\n",
    "    print(aucv, sfeat)\n",
    "    feat_count += 1\n",
    "    print('---------------',feat_count,'---------------')\n",
    "\n",
    "greedy_complete = True    \n",
    "sfeat, aucv"
   ]
  },
  {
   "cell_type": "code",
   "execution_count": 186,
   "metadata": {},
   "outputs": [
    {
     "data": {
      "text/plain": [
       "['Number of Credit Problems',\n",
       " 'bin no Current Credit Balance',\n",
       " 'log Annual Income',\n",
       " 'log Current Credit Balance',\n",
       " 'log Maximum Open Credit',\n",
       " 'sqr Current Loan Amount',\n",
       " 'sqr Monthly Debt',\n",
       " 'sqr Number of Open Accounts',\n",
       " 'sqr Years of Credit History',\n",
       " 'int Years in current job',\n",
       " 'int Home Ownership',\n",
       " 'int Purpose']"
      ]
     },
     "execution_count": 186,
     "metadata": {},
     "output_type": "execute_result"
    }
   ],
   "source": [
    "feats"
   ]
  },
  {
   "cell_type": "code",
   "execution_count": 48,
   "metadata": {
    "colab": {
     "base_uri": "https://localhost:8080/",
     "height": 92
    },
    "colab_type": "code",
    "id": "madCDcYvYDRo",
    "outputId": "1400ec04-32b1-446a-b568-d73032ef43a9"
   },
   "outputs": [
    {
     "data": {
      "text/plain": [
       "[NaN, (223027.2, 325780.4], (11241.999, 147892.8], (325780.4, 449728.4], (449728.4, 789030.0], (147892.8, 223027.2]]\n",
       "Categories (5, interval[float64]): [(11241.999, 147892.8] < (147892.8, 223027.2] < (223027.2, 325780.4] < (325780.4, 449728.4] < (449728.4, 789030.0]]"
      ]
     },
     "execution_count": 48,
     "metadata": {},
     "output_type": "execute_result"
    }
   ],
   "source": [
    "pd.qcut(df['Current Loan Amount'], 5, duplicates='drop').unique()"
   ]
  },
  {
   "cell_type": "code",
   "execution_count": 49,
   "metadata": {
    "colab": {
     "base_uri": "https://localhost:8080/",
     "height": 54
    },
    "colab_type": "code",
    "id": "1EnZ-QHsd_NX",
    "outputId": "379ed41f-4201-47eb-d1a6-a1df25429c3c"
   },
   "outputs": [
    {
     "data": {
      "text/plain": [
       "[NaN, (166799.6, 322357.2], (10464.212, 166799.6], (322357.2, 477914.8], (477914.8, 633472.4], (633472.4, 789030.0]]\n",
       "Categories (5, interval[float64]): [(10464.212, 166799.6] < (166799.6, 322357.2] < (322357.2, 477914.8] < (477914.8, 633472.4] < (633472.4, 789030.0]]"
      ]
     },
     "execution_count": 49,
     "metadata": {},
     "output_type": "execute_result"
    }
   ],
   "source": [
    "pd.cut(df['Current Loan Amount'], 5, duplicates='drop').unique()"
   ]
  },
  {
   "cell_type": "code",
   "execution_count": 50,
   "metadata": {
    "colab": {
     "base_uri": "https://localhost:8080/",
     "height": 343
    },
    "colab_type": "code",
    "id": "7-rVBQZcQP0r",
    "outputId": "b3a75648-c673-4368-9a74-94d1804fec25"
   },
   "outputs": [
    {
     "data": {
      "text/html": [
       "<div>\n",
       "<style scoped>\n",
       "    .dataframe tbody tr th:only-of-type {\n",
       "        vertical-align: middle;\n",
       "    }\n",
       "\n",
       "    .dataframe tbody tr th {\n",
       "        vertical-align: top;\n",
       "    }\n",
       "\n",
       "    .dataframe thead th {\n",
       "        text-align: right;\n",
       "    }\n",
       "</style>\n",
       "<table border=\"1\" class=\"dataframe\">\n",
       "  <thead>\n",
       "    <tr style=\"text-align: right;\">\n",
       "      <th></th>\n",
       "      <th>Annual Income</th>\n",
       "      <th>Tax Liens</th>\n",
       "      <th>Number of Open Accounts</th>\n",
       "      <th>Years of Credit History</th>\n",
       "      <th>Maximum Open Credit</th>\n",
       "      <th>Number of Credit Problems</th>\n",
       "      <th>Months since last delinquent</th>\n",
       "      <th>Bankruptcies</th>\n",
       "      <th>Current Loan Amount</th>\n",
       "      <th>Current Credit Balance</th>\n",
       "      <th>Monthly Debt</th>\n",
       "      <th>Credit Score</th>\n",
       "      <th>Credit Default</th>\n",
       "      <th>no more Open Credit</th>\n",
       "      <th>is_fliyer Current Loan Amount</th>\n",
       "      <th>high Credit Score</th>\n",
       "      <th>int Years in current job</th>\n",
       "    </tr>\n",
       "  </thead>\n",
       "  <tbody>\n",
       "    <tr>\n",
       "      <th>count</th>\n",
       "      <td>5.943000e+03</td>\n",
       "      <td>7500.000000</td>\n",
       "      <td>7500.000000</td>\n",
       "      <td>7500.000000</td>\n",
       "      <td>7.435000e+03</td>\n",
       "      <td>7500.000000</td>\n",
       "      <td>3419.000000</td>\n",
       "      <td>7486.000000</td>\n",
       "      <td>6630.000000</td>\n",
       "      <td>7.500000e+03</td>\n",
       "      <td>7500.000000</td>\n",
       "      <td>5543.000000</td>\n",
       "      <td>7500.000000</td>\n",
       "      <td>7500.000000</td>\n",
       "      <td>7500.000000</td>\n",
       "      <td>7500.000000</td>\n",
       "      <td>7129.000000</td>\n",
       "    </tr>\n",
       "    <tr>\n",
       "      <th>mean</th>\n",
       "      <td>1.366392e+06</td>\n",
       "      <td>0.030133</td>\n",
       "      <td>11.130933</td>\n",
       "      <td>18.317467</td>\n",
       "      <td>6.396396e+05</td>\n",
       "      <td>0.170000</td>\n",
       "      <td>34.692600</td>\n",
       "      <td>0.117152</td>\n",
       "      <td>309024.390347</td>\n",
       "      <td>2.898332e+05</td>\n",
       "      <td>18314.454133</td>\n",
       "      <td>720.705935</td>\n",
       "      <td>0.281733</td>\n",
       "      <td>0.008667</td>\n",
       "      <td>0.116000</td>\n",
       "      <td>0.053333</td>\n",
       "      <td>5.880348</td>\n",
       "    </tr>\n",
       "    <tr>\n",
       "      <th>std</th>\n",
       "      <td>8.453392e+05</td>\n",
       "      <td>0.271604</td>\n",
       "      <td>4.908924</td>\n",
       "      <td>7.041946</td>\n",
       "      <td>6.141059e+05</td>\n",
       "      <td>0.498598</td>\n",
       "      <td>21.688806</td>\n",
       "      <td>0.347192</td>\n",
       "      <td>182294.008621</td>\n",
       "      <td>3.178714e+05</td>\n",
       "      <td>11926.764673</td>\n",
       "      <td>27.651126</td>\n",
       "      <td>0.449874</td>\n",
       "      <td>0.092697</td>\n",
       "      <td>0.320246</td>\n",
       "      <td>0.224712</td>\n",
       "      <td>3.620092</td>\n",
       "    </tr>\n",
       "    <tr>\n",
       "      <th>min</th>\n",
       "      <td>1.645970e+05</td>\n",
       "      <td>0.000000</td>\n",
       "      <td>2.000000</td>\n",
       "      <td>4.000000</td>\n",
       "      <td>4.334000e+03</td>\n",
       "      <td>0.000000</td>\n",
       "      <td>0.000000</td>\n",
       "      <td>0.000000</td>\n",
       "      <td>11242.000000</td>\n",
       "      <td>0.000000e+00</td>\n",
       "      <td>0.000000</td>\n",
       "      <td>585.000000</td>\n",
       "      <td>0.000000</td>\n",
       "      <td>0.000000</td>\n",
       "      <td>0.000000</td>\n",
       "      <td>0.000000</td>\n",
       "      <td>0.000000</td>\n",
       "    </tr>\n",
       "    <tr>\n",
       "      <th>25%</th>\n",
       "      <td>8.443410e+05</td>\n",
       "      <td>0.000000</td>\n",
       "      <td>8.000000</td>\n",
       "      <td>13.500000</td>\n",
       "      <td>2.844050e+05</td>\n",
       "      <td>0.000000</td>\n",
       "      <td>16.000000</td>\n",
       "      <td>0.000000</td>\n",
       "      <td>172744.000000</td>\n",
       "      <td>1.142565e+05</td>\n",
       "      <td>10067.500000</td>\n",
       "      <td>709.000000</td>\n",
       "      <td>0.000000</td>\n",
       "      <td>0.000000</td>\n",
       "      <td>0.000000</td>\n",
       "      <td>0.000000</td>\n",
       "      <td>3.000000</td>\n",
       "    </tr>\n",
       "    <tr>\n",
       "      <th>50%</th>\n",
       "      <td>1.168386e+06</td>\n",
       "      <td>0.000000</td>\n",
       "      <td>10.000000</td>\n",
       "      <td>17.000000</td>\n",
       "      <td>4.794680e+05</td>\n",
       "      <td>0.000000</td>\n",
       "      <td>32.000000</td>\n",
       "      <td>0.000000</td>\n",
       "      <td>265826.000000</td>\n",
       "      <td>2.093230e+05</td>\n",
       "      <td>16076.500000</td>\n",
       "      <td>729.000000</td>\n",
       "      <td>0.000000</td>\n",
       "      <td>0.000000</td>\n",
       "      <td>0.000000</td>\n",
       "      <td>0.000000</td>\n",
       "      <td>6.000000</td>\n",
       "    </tr>\n",
       "    <tr>\n",
       "      <th>75%</th>\n",
       "      <td>1.640137e+06</td>\n",
       "      <td>0.000000</td>\n",
       "      <td>14.000000</td>\n",
       "      <td>21.800000</td>\n",
       "      <td>7.920660e+05</td>\n",
       "      <td>0.000000</td>\n",
       "      <td>50.000000</td>\n",
       "      <td>0.000000</td>\n",
       "      <td>430100.000000</td>\n",
       "      <td>3.604062e+05</td>\n",
       "      <td>23818.000000</td>\n",
       "      <td>741.000000</td>\n",
       "      <td>1.000000</td>\n",
       "      <td>0.000000</td>\n",
       "      <td>0.000000</td>\n",
       "      <td>0.000000</td>\n",
       "      <td>10.000000</td>\n",
       "    </tr>\n",
       "    <tr>\n",
       "      <th>max</th>\n",
       "      <td>1.014934e+07</td>\n",
       "      <td>7.000000</td>\n",
       "      <td>43.000000</td>\n",
       "      <td>57.700000</td>\n",
       "      <td>7.526552e+06</td>\n",
       "      <td>7.000000</td>\n",
       "      <td>118.000000</td>\n",
       "      <td>4.000000</td>\n",
       "      <td>789030.000000</td>\n",
       "      <td>6.506797e+06</td>\n",
       "      <td>136679.000000</td>\n",
       "      <td>751.000000</td>\n",
       "      <td>1.000000</td>\n",
       "      <td>1.000000</td>\n",
       "      <td>1.000000</td>\n",
       "      <td>1.000000</td>\n",
       "      <td>10.000000</td>\n",
       "    </tr>\n",
       "  </tbody>\n",
       "</table>\n",
       "</div>"
      ],
      "text/plain": [
       "       Annual Income    Tax Liens  Number of Open Accounts  \\\n",
       "count   5.943000e+03  7500.000000              7500.000000   \n",
       "mean    1.366392e+06     0.030133                11.130933   \n",
       "std     8.453392e+05     0.271604                 4.908924   \n",
       "min     1.645970e+05     0.000000                 2.000000   \n",
       "25%     8.443410e+05     0.000000                 8.000000   \n",
       "50%     1.168386e+06     0.000000                10.000000   \n",
       "75%     1.640137e+06     0.000000                14.000000   \n",
       "max     1.014934e+07     7.000000                43.000000   \n",
       "\n",
       "       Years of Credit History  Maximum Open Credit  \\\n",
       "count              7500.000000         7.435000e+03   \n",
       "mean                 18.317467         6.396396e+05   \n",
       "std                   7.041946         6.141059e+05   \n",
       "min                   4.000000         4.334000e+03   \n",
       "25%                  13.500000         2.844050e+05   \n",
       "50%                  17.000000         4.794680e+05   \n",
       "75%                  21.800000         7.920660e+05   \n",
       "max                  57.700000         7.526552e+06   \n",
       "\n",
       "       Number of Credit Problems  Months since last delinquent  Bankruptcies  \\\n",
       "count                7500.000000                   3419.000000   7486.000000   \n",
       "mean                    0.170000                     34.692600      0.117152   \n",
       "std                     0.498598                     21.688806      0.347192   \n",
       "min                     0.000000                      0.000000      0.000000   \n",
       "25%                     0.000000                     16.000000      0.000000   \n",
       "50%                     0.000000                     32.000000      0.000000   \n",
       "75%                     0.000000                     50.000000      0.000000   \n",
       "max                     7.000000                    118.000000      4.000000   \n",
       "\n",
       "       Current Loan Amount  Current Credit Balance   Monthly Debt  \\\n",
       "count          6630.000000            7.500000e+03    7500.000000   \n",
       "mean         309024.390347            2.898332e+05   18314.454133   \n",
       "std          182294.008621            3.178714e+05   11926.764673   \n",
       "min           11242.000000            0.000000e+00       0.000000   \n",
       "25%          172744.000000            1.142565e+05   10067.500000   \n",
       "50%          265826.000000            2.093230e+05   16076.500000   \n",
       "75%          430100.000000            3.604062e+05   23818.000000   \n",
       "max          789030.000000            6.506797e+06  136679.000000   \n",
       "\n",
       "       Credit Score  Credit Default  no more Open Credit  \\\n",
       "count   5543.000000     7500.000000          7500.000000   \n",
       "mean     720.705935        0.281733             0.008667   \n",
       "std       27.651126        0.449874             0.092697   \n",
       "min      585.000000        0.000000             0.000000   \n",
       "25%      709.000000        0.000000             0.000000   \n",
       "50%      729.000000        0.000000             0.000000   \n",
       "75%      741.000000        1.000000             0.000000   \n",
       "max      751.000000        1.000000             1.000000   \n",
       "\n",
       "       is_fliyer Current Loan Amount  high Credit Score  \\\n",
       "count                    7500.000000        7500.000000   \n",
       "mean                        0.116000           0.053333   \n",
       "std                         0.320246           0.224712   \n",
       "min                         0.000000           0.000000   \n",
       "25%                         0.000000           0.000000   \n",
       "50%                         0.000000           0.000000   \n",
       "75%                         0.000000           0.000000   \n",
       "max                         1.000000           1.000000   \n",
       "\n",
       "       int Years in current job  \n",
       "count               7129.000000  \n",
       "mean                   5.880348  \n",
       "std                    3.620092  \n",
       "min                    0.000000  \n",
       "25%                    3.000000  \n",
       "50%                    6.000000  \n",
       "75%                   10.000000  \n",
       "max                   10.000000  "
      ]
     },
     "execution_count": 50,
     "metadata": {},
     "output_type": "execute_result"
    }
   ],
   "source": [
    "df[df['Current Loan Amount'] != 99999999].describe()"
   ]
  },
  {
   "cell_type": "code",
   "execution_count": 51,
   "metadata": {
    "colab": {
     "base_uri": "https://localhost:8080/",
     "height": 349
    },
    "colab_type": "code",
    "id": "u1KxKTL8P_iu",
    "outputId": "8242e4cc-65d4-4984-a1c6-63e18a729961"
   },
   "outputs": [
    {
     "data": {
      "text/html": [
       "<div>\n",
       "<style scoped>\n",
       "    .dataframe tbody tr th:only-of-type {\n",
       "        vertical-align: middle;\n",
       "    }\n",
       "\n",
       "    .dataframe tbody tr th {\n",
       "        vertical-align: top;\n",
       "    }\n",
       "\n",
       "    .dataframe thead th {\n",
       "        text-align: right;\n",
       "    }\n",
       "</style>\n",
       "<table border=\"1\" class=\"dataframe\">\n",
       "  <thead>\n",
       "    <tr style=\"text-align: right;\">\n",
       "      <th></th>\n",
       "      <th>Annual Income</th>\n",
       "      <th>Tax Liens</th>\n",
       "      <th>Number of Open Accounts</th>\n",
       "      <th>Years of Credit History</th>\n",
       "      <th>Maximum Open Credit</th>\n",
       "      <th>Number of Credit Problems</th>\n",
       "      <th>Months since last delinquent</th>\n",
       "      <th>Bankruptcies</th>\n",
       "      <th>Current Loan Amount</th>\n",
       "      <th>Current Credit Balance</th>\n",
       "      <th>Monthly Debt</th>\n",
       "      <th>Credit Score</th>\n",
       "      <th>Credit Default</th>\n",
       "      <th>no more Open Credit</th>\n",
       "      <th>is_fliyer Current Loan Amount</th>\n",
       "      <th>high Credit Score</th>\n",
       "      <th>int Years in current job</th>\n",
       "    </tr>\n",
       "  </thead>\n",
       "  <tbody>\n",
       "    <tr>\n",
       "      <th>count</th>\n",
       "      <td>5.943000e+03</td>\n",
       "      <td>7500.000000</td>\n",
       "      <td>7500.000000</td>\n",
       "      <td>7500.000000</td>\n",
       "      <td>7.435000e+03</td>\n",
       "      <td>7500.000000</td>\n",
       "      <td>3419.000000</td>\n",
       "      <td>7486.000000</td>\n",
       "      <td>6630.000000</td>\n",
       "      <td>7.500000e+03</td>\n",
       "      <td>7500.000000</td>\n",
       "      <td>5543.000000</td>\n",
       "      <td>7500.000000</td>\n",
       "      <td>7500.000000</td>\n",
       "      <td>7500.000000</td>\n",
       "      <td>7500.000000</td>\n",
       "      <td>7129.000000</td>\n",
       "    </tr>\n",
       "    <tr>\n",
       "      <th>mean</th>\n",
       "      <td>1.366392e+06</td>\n",
       "      <td>0.030133</td>\n",
       "      <td>11.130933</td>\n",
       "      <td>18.317467</td>\n",
       "      <td>6.396396e+05</td>\n",
       "      <td>0.170000</td>\n",
       "      <td>34.692600</td>\n",
       "      <td>0.117152</td>\n",
       "      <td>309024.390347</td>\n",
       "      <td>2.898332e+05</td>\n",
       "      <td>18314.454133</td>\n",
       "      <td>720.705935</td>\n",
       "      <td>0.281733</td>\n",
       "      <td>0.008667</td>\n",
       "      <td>0.116000</td>\n",
       "      <td>0.053333</td>\n",
       "      <td>5.880348</td>\n",
       "    </tr>\n",
       "    <tr>\n",
       "      <th>std</th>\n",
       "      <td>8.453392e+05</td>\n",
       "      <td>0.271604</td>\n",
       "      <td>4.908924</td>\n",
       "      <td>7.041946</td>\n",
       "      <td>6.141059e+05</td>\n",
       "      <td>0.498598</td>\n",
       "      <td>21.688806</td>\n",
       "      <td>0.347192</td>\n",
       "      <td>182294.008621</td>\n",
       "      <td>3.178714e+05</td>\n",
       "      <td>11926.764673</td>\n",
       "      <td>27.651126</td>\n",
       "      <td>0.449874</td>\n",
       "      <td>0.092697</td>\n",
       "      <td>0.320246</td>\n",
       "      <td>0.224712</td>\n",
       "      <td>3.620092</td>\n",
       "    </tr>\n",
       "    <tr>\n",
       "      <th>min</th>\n",
       "      <td>1.645970e+05</td>\n",
       "      <td>0.000000</td>\n",
       "      <td>2.000000</td>\n",
       "      <td>4.000000</td>\n",
       "      <td>4.334000e+03</td>\n",
       "      <td>0.000000</td>\n",
       "      <td>0.000000</td>\n",
       "      <td>0.000000</td>\n",
       "      <td>11242.000000</td>\n",
       "      <td>0.000000e+00</td>\n",
       "      <td>0.000000</td>\n",
       "      <td>585.000000</td>\n",
       "      <td>0.000000</td>\n",
       "      <td>0.000000</td>\n",
       "      <td>0.000000</td>\n",
       "      <td>0.000000</td>\n",
       "      <td>0.000000</td>\n",
       "    </tr>\n",
       "    <tr>\n",
       "      <th>25%</th>\n",
       "      <td>8.443410e+05</td>\n",
       "      <td>0.000000</td>\n",
       "      <td>8.000000</td>\n",
       "      <td>13.500000</td>\n",
       "      <td>2.844050e+05</td>\n",
       "      <td>0.000000</td>\n",
       "      <td>16.000000</td>\n",
       "      <td>0.000000</td>\n",
       "      <td>172744.000000</td>\n",
       "      <td>1.142565e+05</td>\n",
       "      <td>10067.500000</td>\n",
       "      <td>709.000000</td>\n",
       "      <td>0.000000</td>\n",
       "      <td>0.000000</td>\n",
       "      <td>0.000000</td>\n",
       "      <td>0.000000</td>\n",
       "      <td>3.000000</td>\n",
       "    </tr>\n",
       "    <tr>\n",
       "      <th>50%</th>\n",
       "      <td>1.168386e+06</td>\n",
       "      <td>0.000000</td>\n",
       "      <td>10.000000</td>\n",
       "      <td>17.000000</td>\n",
       "      <td>4.794680e+05</td>\n",
       "      <td>0.000000</td>\n",
       "      <td>32.000000</td>\n",
       "      <td>0.000000</td>\n",
       "      <td>265826.000000</td>\n",
       "      <td>2.093230e+05</td>\n",
       "      <td>16076.500000</td>\n",
       "      <td>729.000000</td>\n",
       "      <td>0.000000</td>\n",
       "      <td>0.000000</td>\n",
       "      <td>0.000000</td>\n",
       "      <td>0.000000</td>\n",
       "      <td>6.000000</td>\n",
       "    </tr>\n",
       "    <tr>\n",
       "      <th>75%</th>\n",
       "      <td>1.640137e+06</td>\n",
       "      <td>0.000000</td>\n",
       "      <td>14.000000</td>\n",
       "      <td>21.800000</td>\n",
       "      <td>7.920660e+05</td>\n",
       "      <td>0.000000</td>\n",
       "      <td>50.000000</td>\n",
       "      <td>0.000000</td>\n",
       "      <td>430100.000000</td>\n",
       "      <td>3.604062e+05</td>\n",
       "      <td>23818.000000</td>\n",
       "      <td>741.000000</td>\n",
       "      <td>1.000000</td>\n",
       "      <td>0.000000</td>\n",
       "      <td>0.000000</td>\n",
       "      <td>0.000000</td>\n",
       "      <td>10.000000</td>\n",
       "    </tr>\n",
       "    <tr>\n",
       "      <th>max</th>\n",
       "      <td>1.014934e+07</td>\n",
       "      <td>7.000000</td>\n",
       "      <td>43.000000</td>\n",
       "      <td>57.700000</td>\n",
       "      <td>7.526552e+06</td>\n",
       "      <td>7.000000</td>\n",
       "      <td>118.000000</td>\n",
       "      <td>4.000000</td>\n",
       "      <td>789030.000000</td>\n",
       "      <td>6.506797e+06</td>\n",
       "      <td>136679.000000</td>\n",
       "      <td>751.000000</td>\n",
       "      <td>1.000000</td>\n",
       "      <td>1.000000</td>\n",
       "      <td>1.000000</td>\n",
       "      <td>1.000000</td>\n",
       "      <td>10.000000</td>\n",
       "    </tr>\n",
       "  </tbody>\n",
       "</table>\n",
       "</div>"
      ],
      "text/plain": [
       "       Annual Income    Tax Liens  Number of Open Accounts  \\\n",
       "count   5.943000e+03  7500.000000              7500.000000   \n",
       "mean    1.366392e+06     0.030133                11.130933   \n",
       "std     8.453392e+05     0.271604                 4.908924   \n",
       "min     1.645970e+05     0.000000                 2.000000   \n",
       "25%     8.443410e+05     0.000000                 8.000000   \n",
       "50%     1.168386e+06     0.000000                10.000000   \n",
       "75%     1.640137e+06     0.000000                14.000000   \n",
       "max     1.014934e+07     7.000000                43.000000   \n",
       "\n",
       "       Years of Credit History  Maximum Open Credit  \\\n",
       "count              7500.000000         7.435000e+03   \n",
       "mean                 18.317467         6.396396e+05   \n",
       "std                   7.041946         6.141059e+05   \n",
       "min                   4.000000         4.334000e+03   \n",
       "25%                  13.500000         2.844050e+05   \n",
       "50%                  17.000000         4.794680e+05   \n",
       "75%                  21.800000         7.920660e+05   \n",
       "max                  57.700000         7.526552e+06   \n",
       "\n",
       "       Number of Credit Problems  Months since last delinquent  Bankruptcies  \\\n",
       "count                7500.000000                   3419.000000   7486.000000   \n",
       "mean                    0.170000                     34.692600      0.117152   \n",
       "std                     0.498598                     21.688806      0.347192   \n",
       "min                     0.000000                      0.000000      0.000000   \n",
       "25%                     0.000000                     16.000000      0.000000   \n",
       "50%                     0.000000                     32.000000      0.000000   \n",
       "75%                     0.000000                     50.000000      0.000000   \n",
       "max                     7.000000                    118.000000      4.000000   \n",
       "\n",
       "       Current Loan Amount  Current Credit Balance   Monthly Debt  \\\n",
       "count          6630.000000            7.500000e+03    7500.000000   \n",
       "mean         309024.390347            2.898332e+05   18314.454133   \n",
       "std          182294.008621            3.178714e+05   11926.764673   \n",
       "min           11242.000000            0.000000e+00       0.000000   \n",
       "25%          172744.000000            1.142565e+05   10067.500000   \n",
       "50%          265826.000000            2.093230e+05   16076.500000   \n",
       "75%          430100.000000            3.604062e+05   23818.000000   \n",
       "max          789030.000000            6.506797e+06  136679.000000   \n",
       "\n",
       "       Credit Score  Credit Default  no more Open Credit  \\\n",
       "count   5543.000000     7500.000000          7500.000000   \n",
       "mean     720.705935        0.281733             0.008667   \n",
       "std       27.651126        0.449874             0.092697   \n",
       "min      585.000000        0.000000             0.000000   \n",
       "25%      709.000000        0.000000             0.000000   \n",
       "50%      729.000000        0.000000             0.000000   \n",
       "75%      741.000000        1.000000             0.000000   \n",
       "max      751.000000        1.000000             1.000000   \n",
       "\n",
       "       is_fliyer Current Loan Amount  high Credit Score  \\\n",
       "count                    7500.000000        7500.000000   \n",
       "mean                        0.116000           0.053333   \n",
       "std                         0.320246           0.224712   \n",
       "min                         0.000000           0.000000   \n",
       "25%                         0.000000           0.000000   \n",
       "50%                         0.000000           0.000000   \n",
       "75%                         0.000000           0.000000   \n",
       "max                         1.000000           1.000000   \n",
       "\n",
       "       int Years in current job  \n",
       "count               7129.000000  \n",
       "mean                   5.880348  \n",
       "std                    3.620092  \n",
       "min                    0.000000  \n",
       "25%                    3.000000  \n",
       "50%                    6.000000  \n",
       "75%                   10.000000  \n",
       "max                   10.000000  "
      ]
     },
     "execution_count": 51,
     "metadata": {},
     "output_type": "execute_result"
    }
   ],
   "source": [
    "df.describe()"
   ]
  },
  {
   "cell_type": "code",
   "execution_count": null,
   "metadata": {},
   "outputs": [],
   "source": []
  }
 ],
 "metadata": {
  "colab": {
   "collapsed_sections": [],
   "name": "default_predict_project.ipynb",
   "provenance": []
  },
  "kernelspec": {
   "display_name": "Python 3",
   "language": "python",
   "name": "python3"
  },
  "language_info": {
   "codemirror_mode": {
    "name": "ipython",
    "version": 3
   },
   "file_extension": ".py",
   "mimetype": "text/x-python",
   "name": "python",
   "nbconvert_exporter": "python",
   "pygments_lexer": "ipython3",
   "version": "3.7.2"
  }
 },
 "nbformat": 4,
 "nbformat_minor": 1
}
